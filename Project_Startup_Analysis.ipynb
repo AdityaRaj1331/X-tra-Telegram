{
  "cells": [
    {
      "cell_type": "markdown",
      "metadata": {
        "id": "view-in-github",
        "colab_type": "text"
      },
      "source": [
        "<a href=\"https://colab.research.google.com/github/AdityaRaj1331/X-tra-Telegram/blob/master/Project_Startup_Analysis.ipynb\" target=\"_parent\"><img src=\"https://colab.research.google.com/assets/colab-badge.svg\" alt=\"Open In Colab\"/></a>"
      ]
    },
    {
      "cell_type": "markdown",
      "metadata": {
        "id": "qIc5W1jSnHFw"
      },
      "source": [
        "# Startup Investment Analysis"
      ]
    },
    {
      "cell_type": "markdown",
      "metadata": {
        "id": "n7HUSSRonHF0"
      },
      "source": [
        "\n",
        "\n",
        "# PROJECT TITLE:\n",
        " Startup Investment\n",
        "\n",
        "# PROBLEM STATEMENT:\n",
        " Explanation of Startup Investment.\n",
        " Putting down capital in exchange with their investment.\n",
        "\n"
      ]
    },
    {
      "cell_type": "markdown",
      "metadata": {
        "id": "lqRArKcpnHF1"
      },
      "source": [
        "# Dataset information:\n",
        "1. The investments series at a company level are given.\n",
        "2. The company status are given - the interesting challenge would be discover if the investments and other criteria help company to be an operating / closed / acquired stage.\n",
        "3. A classification problem.\n",
        "4. Records – 54294\n",
        "5. Features – 39"
      ]
    },
    {
      "cell_type": "markdown",
      "metadata": {
        "id": "EedRKG_OnHF2"
      },
      "source": [
        "# Libraries"
      ]
    },
    {
      "cell_type": "code",
      "execution_count": null,
      "metadata": {
        "id": "sP0-siDNnHF3"
      },
      "outputs": [],
      "source": [
        "import pandas as pd\n",
        "import numpy as np\n",
        "import matplotlib.pyplot as plt\n",
        "from sklearn.feature_extraction.text import TfidfVectorizer\n",
        "from sklearn.metrics.pairwise import linear_kernel\n",
        "\n",
        "# Plot graph\n",
        "import matplotlib.pyplot as plt\n",
        "import seaborn as sns\n",
        "from collections import Counter\n",
        "\n",
        "# Packages for Models\n",
        "from sklearn.model_selection import train_test_split\n",
        "from sklearn.ensemble import RandomForestClassifier\n",
        "from sklearn.tree import DecisionTreeClassifier\n",
        "from sklearn.neighbors import KNeighborsClassifier\n",
        "from sklearn.metrics import *\n",
        "\n",
        "import warnings\n",
        "warnings.filterwarnings(\"ignore\")\n"
      ]
    },
    {
      "cell_type": "markdown",
      "metadata": {
        "id": "e5lzx9QSnHF4"
      },
      "source": [
        "# Data Retrieval"
      ]
    },
    {
      "cell_type": "markdown",
      "metadata": {
        "id": "45-_bqTjnHF4"
      },
      "source": [
        "# Read File"
      ]
    },
    {
      "cell_type": "markdown",
      "source": [],
      "metadata": {
        "id": "Ir-0gDP53Zyq"
      }
    },
    {
      "cell_type": "code",
      "execution_count": null,
      "metadata": {
        "id": "TjRaIKGenHF4"
      },
      "outputs": [],
      "source": [
        "data = pd.read_csv('/content/investments_VC.csv', on_bad_lines='skip',encoding = \"ISO-8859-1\")"
      ]
    },
    {
      "cell_type": "code",
      "execution_count": null,
      "metadata": {
        "id": "q9onr0RAnHF5",
        "colab": {
          "base_uri": "https://localhost:8080/",
          "height": 630
        },
        "outputId": "f4656de9-329c-4776-c64f-4c184ff677be"
      },
      "outputs": [
        {
          "output_type": "execute_result",
          "data": {
            "text/plain": [
              "                          permalink                name  \\\n",
              "0             /organization/waywire            #waywire   \n",
              "1   /organization/tv-communications  &TV Communications   \n",
              "2     /organization/rock-your-paper   'Rock' Your Paper   \n",
              "3    /organization/in-touch-network   (In)Touch Network   \n",
              "4    /organization/r-ranch-and-mine  -R- Ranch and Mine   \n",
              "5        /organization/club-domains       .Club Domains   \n",
              "6        /organization/fox-networks       .Fox Networks   \n",
              "7             /organization/0-6-com             0-6.com   \n",
              "8    /organization/004-technologies    004 Technologies   \n",
              "9  /organization/01games-technology  01Games Technology   \n",
              "\n",
              "                        homepage_url  \\\n",
              "0             http://www.waywire.com   \n",
              "1              http://enjoyandtv.com   \n",
              "2       http://www.rockyourpaper.org   \n",
              "3      http://www.InTouchNetwork.com   \n",
              "4                                NaN   \n",
              "5                   http://nic.club/   \n",
              "6              http://www.dotfox.com   \n",
              "7                 http://www.0-6.com   \n",
              "8  http://004gmbh.de/en/004-interact   \n",
              "9             http://www.01games.hk/   \n",
              "\n",
              "                                       category_list        market   \\\n",
              "0         |Entertainment|Politics|Social Media|News|          News    \n",
              "1                                            |Games|         Games    \n",
              "2                             |Publishing|Education|    Publishing    \n",
              "3  |Electronics|Guides|Coffee|Restaurants|Music|i...   Electronics    \n",
              "4                      |Tourism|Entertainment|Games|       Tourism    \n",
              "5                                         |Software|      Software    \n",
              "6                                      |Advertising|   Advertising    \n",
              "7                                      |Curated Web|   Curated Web    \n",
              "8                                         |Software|      Software    \n",
              "9                                            |Games|         Games    \n",
              "\n",
              "   funding_total_usd      status country_code state_code  \\\n",
              "0          17,50,000    acquired          USA         NY   \n",
              "1          40,00,000   operating          USA         CA   \n",
              "2             40,000   operating          EST        NaN   \n",
              "3          15,00,000   operating          GBR        NaN   \n",
              "4             60,000   operating          USA         TX   \n",
              "5          70,00,000         NaN          USA         FL   \n",
              "6          49,12,393      closed          ARG        NaN   \n",
              "7          20,00,000   operating          NaN        NaN   \n",
              "8                -     operating          USA         IL   \n",
              "9             41,250   operating          HKG        NaN   \n",
              "\n",
              "                  region  ... secondary_market  product_crowdfunding  \\\n",
              "0          New York City  ...              0.0                   0.0   \n",
              "1            Los Angeles  ...              0.0                   0.0   \n",
              "2                Tallinn  ...              0.0                   0.0   \n",
              "3                 London  ...              0.0                   0.0   \n",
              "4                 Dallas  ...              0.0                   0.0   \n",
              "5         Ft. Lauderdale  ...              0.0                   0.0   \n",
              "6           Buenos Aires  ...              0.0                   0.0   \n",
              "7                    NaN  ...              0.0                   0.0   \n",
              "8  Springfield, Illinois  ...              0.0                   0.0   \n",
              "9              Hong Kong  ...              0.0                   0.0   \n",
              "\n",
              "     round_A    round_B round_C  round_D round_E round_F  round_G  round_H  \n",
              "0        0.0        0.0     0.0      0.0     0.0     0.0      0.0      0.0  \n",
              "1        0.0        0.0     0.0      0.0     0.0     0.0      0.0      0.0  \n",
              "2        0.0        0.0     0.0      0.0     0.0     0.0      0.0      0.0  \n",
              "3        0.0        0.0     0.0      0.0     0.0     0.0      0.0      0.0  \n",
              "4        0.0        0.0     0.0      0.0     0.0     0.0      0.0      0.0  \n",
              "5        0.0  7000000.0     0.0      0.0     0.0     0.0      0.0      0.0  \n",
              "6        0.0        0.0     0.0      0.0     0.0     0.0      0.0      0.0  \n",
              "7  2000000.0        0.0     0.0      0.0     0.0     0.0      0.0      0.0  \n",
              "8        0.0        0.0     0.0      0.0     0.0     0.0      0.0      0.0  \n",
              "9        0.0        0.0     0.0      0.0     0.0     0.0      0.0      0.0  \n",
              "\n",
              "[10 rows x 39 columns]"
            ],
            "text/html": [
              "\n",
              "  <div id=\"df-b548b195-0dc0-40fb-a560-ea380f58caed\">\n",
              "    <div class=\"colab-df-container\">\n",
              "      <div>\n",
              "<style scoped>\n",
              "    .dataframe tbody tr th:only-of-type {\n",
              "        vertical-align: middle;\n",
              "    }\n",
              "\n",
              "    .dataframe tbody tr th {\n",
              "        vertical-align: top;\n",
              "    }\n",
              "\n",
              "    .dataframe thead th {\n",
              "        text-align: right;\n",
              "    }\n",
              "</style>\n",
              "<table border=\"1\" class=\"dataframe\">\n",
              "  <thead>\n",
              "    <tr style=\"text-align: right;\">\n",
              "      <th></th>\n",
              "      <th>permalink</th>\n",
              "      <th>name</th>\n",
              "      <th>homepage_url</th>\n",
              "      <th>category_list</th>\n",
              "      <th>market</th>\n",
              "      <th>funding_total_usd</th>\n",
              "      <th>status</th>\n",
              "      <th>country_code</th>\n",
              "      <th>state_code</th>\n",
              "      <th>region</th>\n",
              "      <th>...</th>\n",
              "      <th>secondary_market</th>\n",
              "      <th>product_crowdfunding</th>\n",
              "      <th>round_A</th>\n",
              "      <th>round_B</th>\n",
              "      <th>round_C</th>\n",
              "      <th>round_D</th>\n",
              "      <th>round_E</th>\n",
              "      <th>round_F</th>\n",
              "      <th>round_G</th>\n",
              "      <th>round_H</th>\n",
              "    </tr>\n",
              "  </thead>\n",
              "  <tbody>\n",
              "    <tr>\n",
              "      <th>0</th>\n",
              "      <td>/organization/waywire</td>\n",
              "      <td>#waywire</td>\n",
              "      <td>http://www.waywire.com</td>\n",
              "      <td>|Entertainment|Politics|Social Media|News|</td>\n",
              "      <td>News</td>\n",
              "      <td>17,50,000</td>\n",
              "      <td>acquired</td>\n",
              "      <td>USA</td>\n",
              "      <td>NY</td>\n",
              "      <td>New York City</td>\n",
              "      <td>...</td>\n",
              "      <td>0.0</td>\n",
              "      <td>0.0</td>\n",
              "      <td>0.0</td>\n",
              "      <td>0.0</td>\n",
              "      <td>0.0</td>\n",
              "      <td>0.0</td>\n",
              "      <td>0.0</td>\n",
              "      <td>0.0</td>\n",
              "      <td>0.0</td>\n",
              "      <td>0.0</td>\n",
              "    </tr>\n",
              "    <tr>\n",
              "      <th>1</th>\n",
              "      <td>/organization/tv-communications</td>\n",
              "      <td>&amp;TV Communications</td>\n",
              "      <td>http://enjoyandtv.com</td>\n",
              "      <td>|Games|</td>\n",
              "      <td>Games</td>\n",
              "      <td>40,00,000</td>\n",
              "      <td>operating</td>\n",
              "      <td>USA</td>\n",
              "      <td>CA</td>\n",
              "      <td>Los Angeles</td>\n",
              "      <td>...</td>\n",
              "      <td>0.0</td>\n",
              "      <td>0.0</td>\n",
              "      <td>0.0</td>\n",
              "      <td>0.0</td>\n",
              "      <td>0.0</td>\n",
              "      <td>0.0</td>\n",
              "      <td>0.0</td>\n",
              "      <td>0.0</td>\n",
              "      <td>0.0</td>\n",
              "      <td>0.0</td>\n",
              "    </tr>\n",
              "    <tr>\n",
              "      <th>2</th>\n",
              "      <td>/organization/rock-your-paper</td>\n",
              "      <td>'Rock' Your Paper</td>\n",
              "      <td>http://www.rockyourpaper.org</td>\n",
              "      <td>|Publishing|Education|</td>\n",
              "      <td>Publishing</td>\n",
              "      <td>40,000</td>\n",
              "      <td>operating</td>\n",
              "      <td>EST</td>\n",
              "      <td>NaN</td>\n",
              "      <td>Tallinn</td>\n",
              "      <td>...</td>\n",
              "      <td>0.0</td>\n",
              "      <td>0.0</td>\n",
              "      <td>0.0</td>\n",
              "      <td>0.0</td>\n",
              "      <td>0.0</td>\n",
              "      <td>0.0</td>\n",
              "      <td>0.0</td>\n",
              "      <td>0.0</td>\n",
              "      <td>0.0</td>\n",
              "      <td>0.0</td>\n",
              "    </tr>\n",
              "    <tr>\n",
              "      <th>3</th>\n",
              "      <td>/organization/in-touch-network</td>\n",
              "      <td>(In)Touch Network</td>\n",
              "      <td>http://www.InTouchNetwork.com</td>\n",
              "      <td>|Electronics|Guides|Coffee|Restaurants|Music|i...</td>\n",
              "      <td>Electronics</td>\n",
              "      <td>15,00,000</td>\n",
              "      <td>operating</td>\n",
              "      <td>GBR</td>\n",
              "      <td>NaN</td>\n",
              "      <td>London</td>\n",
              "      <td>...</td>\n",
              "      <td>0.0</td>\n",
              "      <td>0.0</td>\n",
              "      <td>0.0</td>\n",
              "      <td>0.0</td>\n",
              "      <td>0.0</td>\n",
              "      <td>0.0</td>\n",
              "      <td>0.0</td>\n",
              "      <td>0.0</td>\n",
              "      <td>0.0</td>\n",
              "      <td>0.0</td>\n",
              "    </tr>\n",
              "    <tr>\n",
              "      <th>4</th>\n",
              "      <td>/organization/r-ranch-and-mine</td>\n",
              "      <td>-R- Ranch and Mine</td>\n",
              "      <td>NaN</td>\n",
              "      <td>|Tourism|Entertainment|Games|</td>\n",
              "      <td>Tourism</td>\n",
              "      <td>60,000</td>\n",
              "      <td>operating</td>\n",
              "      <td>USA</td>\n",
              "      <td>TX</td>\n",
              "      <td>Dallas</td>\n",
              "      <td>...</td>\n",
              "      <td>0.0</td>\n",
              "      <td>0.0</td>\n",
              "      <td>0.0</td>\n",
              "      <td>0.0</td>\n",
              "      <td>0.0</td>\n",
              "      <td>0.0</td>\n",
              "      <td>0.0</td>\n",
              "      <td>0.0</td>\n",
              "      <td>0.0</td>\n",
              "      <td>0.0</td>\n",
              "    </tr>\n",
              "    <tr>\n",
              "      <th>5</th>\n",
              "      <td>/organization/club-domains</td>\n",
              "      <td>.Club Domains</td>\n",
              "      <td>http://nic.club/</td>\n",
              "      <td>|Software|</td>\n",
              "      <td>Software</td>\n",
              "      <td>70,00,000</td>\n",
              "      <td>NaN</td>\n",
              "      <td>USA</td>\n",
              "      <td>FL</td>\n",
              "      <td>Ft. Lauderdale</td>\n",
              "      <td>...</td>\n",
              "      <td>0.0</td>\n",
              "      <td>0.0</td>\n",
              "      <td>0.0</td>\n",
              "      <td>7000000.0</td>\n",
              "      <td>0.0</td>\n",
              "      <td>0.0</td>\n",
              "      <td>0.0</td>\n",
              "      <td>0.0</td>\n",
              "      <td>0.0</td>\n",
              "      <td>0.0</td>\n",
              "    </tr>\n",
              "    <tr>\n",
              "      <th>6</th>\n",
              "      <td>/organization/fox-networks</td>\n",
              "      <td>.Fox Networks</td>\n",
              "      <td>http://www.dotfox.com</td>\n",
              "      <td>|Advertising|</td>\n",
              "      <td>Advertising</td>\n",
              "      <td>49,12,393</td>\n",
              "      <td>closed</td>\n",
              "      <td>ARG</td>\n",
              "      <td>NaN</td>\n",
              "      <td>Buenos Aires</td>\n",
              "      <td>...</td>\n",
              "      <td>0.0</td>\n",
              "      <td>0.0</td>\n",
              "      <td>0.0</td>\n",
              "      <td>0.0</td>\n",
              "      <td>0.0</td>\n",
              "      <td>0.0</td>\n",
              "      <td>0.0</td>\n",
              "      <td>0.0</td>\n",
              "      <td>0.0</td>\n",
              "      <td>0.0</td>\n",
              "    </tr>\n",
              "    <tr>\n",
              "      <th>7</th>\n",
              "      <td>/organization/0-6-com</td>\n",
              "      <td>0-6.com</td>\n",
              "      <td>http://www.0-6.com</td>\n",
              "      <td>|Curated Web|</td>\n",
              "      <td>Curated Web</td>\n",
              "      <td>20,00,000</td>\n",
              "      <td>operating</td>\n",
              "      <td>NaN</td>\n",
              "      <td>NaN</td>\n",
              "      <td>NaN</td>\n",
              "      <td>...</td>\n",
              "      <td>0.0</td>\n",
              "      <td>0.0</td>\n",
              "      <td>2000000.0</td>\n",
              "      <td>0.0</td>\n",
              "      <td>0.0</td>\n",
              "      <td>0.0</td>\n",
              "      <td>0.0</td>\n",
              "      <td>0.0</td>\n",
              "      <td>0.0</td>\n",
              "      <td>0.0</td>\n",
              "    </tr>\n",
              "    <tr>\n",
              "      <th>8</th>\n",
              "      <td>/organization/004-technologies</td>\n",
              "      <td>004 Technologies</td>\n",
              "      <td>http://004gmbh.de/en/004-interact</td>\n",
              "      <td>|Software|</td>\n",
              "      <td>Software</td>\n",
              "      <td>-</td>\n",
              "      <td>operating</td>\n",
              "      <td>USA</td>\n",
              "      <td>IL</td>\n",
              "      <td>Springfield, Illinois</td>\n",
              "      <td>...</td>\n",
              "      <td>0.0</td>\n",
              "      <td>0.0</td>\n",
              "      <td>0.0</td>\n",
              "      <td>0.0</td>\n",
              "      <td>0.0</td>\n",
              "      <td>0.0</td>\n",
              "      <td>0.0</td>\n",
              "      <td>0.0</td>\n",
              "      <td>0.0</td>\n",
              "      <td>0.0</td>\n",
              "    </tr>\n",
              "    <tr>\n",
              "      <th>9</th>\n",
              "      <td>/organization/01games-technology</td>\n",
              "      <td>01Games Technology</td>\n",
              "      <td>http://www.01games.hk/</td>\n",
              "      <td>|Games|</td>\n",
              "      <td>Games</td>\n",
              "      <td>41,250</td>\n",
              "      <td>operating</td>\n",
              "      <td>HKG</td>\n",
              "      <td>NaN</td>\n",
              "      <td>Hong Kong</td>\n",
              "      <td>...</td>\n",
              "      <td>0.0</td>\n",
              "      <td>0.0</td>\n",
              "      <td>0.0</td>\n",
              "      <td>0.0</td>\n",
              "      <td>0.0</td>\n",
              "      <td>0.0</td>\n",
              "      <td>0.0</td>\n",
              "      <td>0.0</td>\n",
              "      <td>0.0</td>\n",
              "      <td>0.0</td>\n",
              "    </tr>\n",
              "  </tbody>\n",
              "</table>\n",
              "<p>10 rows × 39 columns</p>\n",
              "</div>\n",
              "      <button class=\"colab-df-convert\" onclick=\"convertToInteractive('df-b548b195-0dc0-40fb-a560-ea380f58caed')\"\n",
              "              title=\"Convert this dataframe to an interactive table.\"\n",
              "              style=\"display:none;\">\n",
              "        \n",
              "  <svg xmlns=\"http://www.w3.org/2000/svg\" height=\"24px\"viewBox=\"0 0 24 24\"\n",
              "       width=\"24px\">\n",
              "    <path d=\"M0 0h24v24H0V0z\" fill=\"none\"/>\n",
              "    <path d=\"M18.56 5.44l.94 2.06.94-2.06 2.06-.94-2.06-.94-.94-2.06-.94 2.06-2.06.94zm-11 1L8.5 8.5l.94-2.06 2.06-.94-2.06-.94L8.5 2.5l-.94 2.06-2.06.94zm10 10l.94 2.06.94-2.06 2.06-.94-2.06-.94-.94-2.06-.94 2.06-2.06.94z\"/><path d=\"M17.41 7.96l-1.37-1.37c-.4-.4-.92-.59-1.43-.59-.52 0-1.04.2-1.43.59L10.3 9.45l-7.72 7.72c-.78.78-.78 2.05 0 2.83L4 21.41c.39.39.9.59 1.41.59.51 0 1.02-.2 1.41-.59l7.78-7.78 2.81-2.81c.8-.78.8-2.07 0-2.86zM5.41 20L4 18.59l7.72-7.72 1.47 1.35L5.41 20z\"/>\n",
              "  </svg>\n",
              "      </button>\n",
              "      \n",
              "  <style>\n",
              "    .colab-df-container {\n",
              "      display:flex;\n",
              "      flex-wrap:wrap;\n",
              "      gap: 12px;\n",
              "    }\n",
              "\n",
              "    .colab-df-convert {\n",
              "      background-color: #E8F0FE;\n",
              "      border: none;\n",
              "      border-radius: 50%;\n",
              "      cursor: pointer;\n",
              "      display: none;\n",
              "      fill: #1967D2;\n",
              "      height: 32px;\n",
              "      padding: 0 0 0 0;\n",
              "      width: 32px;\n",
              "    }\n",
              "\n",
              "    .colab-df-convert:hover {\n",
              "      background-color: #E2EBFA;\n",
              "      box-shadow: 0px 1px 2px rgba(60, 64, 67, 0.3), 0px 1px 3px 1px rgba(60, 64, 67, 0.15);\n",
              "      fill: #174EA6;\n",
              "    }\n",
              "\n",
              "    [theme=dark] .colab-df-convert {\n",
              "      background-color: #3B4455;\n",
              "      fill: #D2E3FC;\n",
              "    }\n",
              "\n",
              "    [theme=dark] .colab-df-convert:hover {\n",
              "      background-color: #434B5C;\n",
              "      box-shadow: 0px 1px 3px 1px rgba(0, 0, 0, 0.15);\n",
              "      filter: drop-shadow(0px 1px 2px rgba(0, 0, 0, 0.3));\n",
              "      fill: #FFFFFF;\n",
              "    }\n",
              "  </style>\n",
              "\n",
              "      <script>\n",
              "        const buttonEl =\n",
              "          document.querySelector('#df-b548b195-0dc0-40fb-a560-ea380f58caed button.colab-df-convert');\n",
              "        buttonEl.style.display =\n",
              "          google.colab.kernel.accessAllowed ? 'block' : 'none';\n",
              "\n",
              "        async function convertToInteractive(key) {\n",
              "          const element = document.querySelector('#df-b548b195-0dc0-40fb-a560-ea380f58caed');\n",
              "          const dataTable =\n",
              "            await google.colab.kernel.invokeFunction('convertToInteractive',\n",
              "                                                     [key], {});\n",
              "          if (!dataTable) return;\n",
              "\n",
              "          const docLinkHtml = 'Like what you see? Visit the ' +\n",
              "            '<a target=\"_blank\" href=https://colab.research.google.com/notebooks/data_table.ipynb>data table notebook</a>'\n",
              "            + ' to learn more about interactive tables.';\n",
              "          element.innerHTML = '';\n",
              "          dataTable['output_type'] = 'display_data';\n",
              "          await google.colab.output.renderOutput(dataTable, element);\n",
              "          const docLink = document.createElement('div');\n",
              "          docLink.innerHTML = docLinkHtml;\n",
              "          element.appendChild(docLink);\n",
              "        }\n",
              "      </script>\n",
              "    </div>\n",
              "  </div>\n",
              "  "
            ]
          },
          "metadata": {},
          "execution_count": 7
        }
      ],
      "source": [
        "data.head(10)"
      ]
    },
    {
      "cell_type": "markdown",
      "metadata": {
        "id": "0QCHGNZbnHF6"
      },
      "source": [
        "# Data Cleaning"
      ]
    },
    {
      "cell_type": "code",
      "execution_count": null,
      "metadata": {
        "id": "14W0cUkpnHF6",
        "colab": {
          "base_uri": "https://localhost:8080/"
        },
        "outputId": "a2f37459-e2d7-4ff1-82c4-e9afd8f4a19a"
      },
      "outputs": [
        {
          "output_type": "execute_result",
          "data": {
            "text/plain": [
              "29414"
            ]
          },
          "metadata": {},
          "execution_count": 8
        }
      ],
      "source": [
        "len(data)"
      ]
    },
    {
      "cell_type": "code",
      "execution_count": null,
      "metadata": {
        "scrolled": true,
        "id": "bTz8jrmKnHF6",
        "colab": {
          "base_uri": "https://localhost:8080/",
          "height": 403
        },
        "outputId": "15df9498-6b72-4865-bfdc-7320367d53e2"
      },
      "outputs": [
        {
          "output_type": "execute_result",
          "data": {
            "text/plain": [
              "                                  permalink                    name  \\\n",
              "29409             /organization/nomad-goods             NOMAD GOODS   \n",
              "29410     /organization/nomad-mobile-guides     Nomad Mobile Guides   \n",
              "29411                /organization/nomadesk                Nomadesk   \n",
              "29412  /organization/nomadica-brainstorming  Nomadica Brainstorming   \n",
              "29413                /organization/nomanini                Nomanini   \n",
              "\n",
              "                                homepage_url  \\\n",
              "29409              http://www.hellonomad.com   \n",
              "29410       http://www.nomadmobileguides.com   \n",
              "29411                http://www.nomadesk.com   \n",
              "29412  http://www.nomadicabrainstorming.como   \n",
              "29413                    http://nomanini.com   \n",
              "\n",
              "                                           category_list           market   \\\n",
              "29409      |Mobile|Hardware|Fashion|Hardware + Software|          Fashion    \n",
              "29410                                           |Travel|           Travel    \n",
              "29411  |Enterprise 2.0|Business Services|Enterprise S...   Enterprise 2.0    \n",
              "29412                    |Web Tools|Incubators|Software|         Software    \n",
              "29413                                      |Curated Web|      Curated Web    \n",
              "\n",
              "       funding_total_usd      status country_code state_code       region  \\\n",
              "29409           3,34,171   operating          USA         CA  SF Bay Area   \n",
              "29410           2,55,000   operating          USA         VA      Roanoke   \n",
              "29411        1,12,98,100   operating          USA         TX       Austin   \n",
              "29412           6,00,000      closed          ESP        NaN    Barcelona   \n",
              "29413          10,50,000   operating          ZAF        NaN    Cape Town   \n",
              "\n",
              "       ... secondary_market  product_crowdfunding    round_A    round_B  \\\n",
              "29409  ...              0.0              334171.0        0.0        0.0   \n",
              "29410  ...              0.0                   0.0        0.0        0.0   \n",
              "29411  ...              0.0                   0.0  3998100.0  7000000.0   \n",
              "29412  ...              0.0                   0.0        0.0        0.0   \n",
              "29413  ...              NaN                   NaN        NaN        NaN   \n",
              "\n",
              "      round_C  round_D round_E round_F  round_G  round_H  \n",
              "29409     0.0      0.0     0.0     0.0      0.0      0.0  \n",
              "29410     0.0      0.0     0.0     0.0      0.0      0.0  \n",
              "29411     0.0      0.0     0.0     0.0      0.0      0.0  \n",
              "29412     0.0      0.0     0.0     0.0      0.0      0.0  \n",
              "29413     NaN      NaN     NaN     NaN      NaN      NaN  \n",
              "\n",
              "[5 rows x 39 columns]"
            ],
            "text/html": [
              "\n",
              "  <div id=\"df-887a92eb-4cdc-4751-869b-eb4b24ca1869\">\n",
              "    <div class=\"colab-df-container\">\n",
              "      <div>\n",
              "<style scoped>\n",
              "    .dataframe tbody tr th:only-of-type {\n",
              "        vertical-align: middle;\n",
              "    }\n",
              "\n",
              "    .dataframe tbody tr th {\n",
              "        vertical-align: top;\n",
              "    }\n",
              "\n",
              "    .dataframe thead th {\n",
              "        text-align: right;\n",
              "    }\n",
              "</style>\n",
              "<table border=\"1\" class=\"dataframe\">\n",
              "  <thead>\n",
              "    <tr style=\"text-align: right;\">\n",
              "      <th></th>\n",
              "      <th>permalink</th>\n",
              "      <th>name</th>\n",
              "      <th>homepage_url</th>\n",
              "      <th>category_list</th>\n",
              "      <th>market</th>\n",
              "      <th>funding_total_usd</th>\n",
              "      <th>status</th>\n",
              "      <th>country_code</th>\n",
              "      <th>state_code</th>\n",
              "      <th>region</th>\n",
              "      <th>...</th>\n",
              "      <th>secondary_market</th>\n",
              "      <th>product_crowdfunding</th>\n",
              "      <th>round_A</th>\n",
              "      <th>round_B</th>\n",
              "      <th>round_C</th>\n",
              "      <th>round_D</th>\n",
              "      <th>round_E</th>\n",
              "      <th>round_F</th>\n",
              "      <th>round_G</th>\n",
              "      <th>round_H</th>\n",
              "    </tr>\n",
              "  </thead>\n",
              "  <tbody>\n",
              "    <tr>\n",
              "      <th>29409</th>\n",
              "      <td>/organization/nomad-goods</td>\n",
              "      <td>NOMAD GOODS</td>\n",
              "      <td>http://www.hellonomad.com</td>\n",
              "      <td>|Mobile|Hardware|Fashion|Hardware + Software|</td>\n",
              "      <td>Fashion</td>\n",
              "      <td>3,34,171</td>\n",
              "      <td>operating</td>\n",
              "      <td>USA</td>\n",
              "      <td>CA</td>\n",
              "      <td>SF Bay Area</td>\n",
              "      <td>...</td>\n",
              "      <td>0.0</td>\n",
              "      <td>334171.0</td>\n",
              "      <td>0.0</td>\n",
              "      <td>0.0</td>\n",
              "      <td>0.0</td>\n",
              "      <td>0.0</td>\n",
              "      <td>0.0</td>\n",
              "      <td>0.0</td>\n",
              "      <td>0.0</td>\n",
              "      <td>0.0</td>\n",
              "    </tr>\n",
              "    <tr>\n",
              "      <th>29410</th>\n",
              "      <td>/organization/nomad-mobile-guides</td>\n",
              "      <td>Nomad Mobile Guides</td>\n",
              "      <td>http://www.nomadmobileguides.com</td>\n",
              "      <td>|Travel|</td>\n",
              "      <td>Travel</td>\n",
              "      <td>2,55,000</td>\n",
              "      <td>operating</td>\n",
              "      <td>USA</td>\n",
              "      <td>VA</td>\n",
              "      <td>Roanoke</td>\n",
              "      <td>...</td>\n",
              "      <td>0.0</td>\n",
              "      <td>0.0</td>\n",
              "      <td>0.0</td>\n",
              "      <td>0.0</td>\n",
              "      <td>0.0</td>\n",
              "      <td>0.0</td>\n",
              "      <td>0.0</td>\n",
              "      <td>0.0</td>\n",
              "      <td>0.0</td>\n",
              "      <td>0.0</td>\n",
              "    </tr>\n",
              "    <tr>\n",
              "      <th>29411</th>\n",
              "      <td>/organization/nomadesk</td>\n",
              "      <td>Nomadesk</td>\n",
              "      <td>http://www.nomadesk.com</td>\n",
              "      <td>|Enterprise 2.0|Business Services|Enterprise S...</td>\n",
              "      <td>Enterprise 2.0</td>\n",
              "      <td>1,12,98,100</td>\n",
              "      <td>operating</td>\n",
              "      <td>USA</td>\n",
              "      <td>TX</td>\n",
              "      <td>Austin</td>\n",
              "      <td>...</td>\n",
              "      <td>0.0</td>\n",
              "      <td>0.0</td>\n",
              "      <td>3998100.0</td>\n",
              "      <td>7000000.0</td>\n",
              "      <td>0.0</td>\n",
              "      <td>0.0</td>\n",
              "      <td>0.0</td>\n",
              "      <td>0.0</td>\n",
              "      <td>0.0</td>\n",
              "      <td>0.0</td>\n",
              "    </tr>\n",
              "    <tr>\n",
              "      <th>29412</th>\n",
              "      <td>/organization/nomadica-brainstorming</td>\n",
              "      <td>Nomadica Brainstorming</td>\n",
              "      <td>http://www.nomadicabrainstorming.como</td>\n",
              "      <td>|Web Tools|Incubators|Software|</td>\n",
              "      <td>Software</td>\n",
              "      <td>6,00,000</td>\n",
              "      <td>closed</td>\n",
              "      <td>ESP</td>\n",
              "      <td>NaN</td>\n",
              "      <td>Barcelona</td>\n",
              "      <td>...</td>\n",
              "      <td>0.0</td>\n",
              "      <td>0.0</td>\n",
              "      <td>0.0</td>\n",
              "      <td>0.0</td>\n",
              "      <td>0.0</td>\n",
              "      <td>0.0</td>\n",
              "      <td>0.0</td>\n",
              "      <td>0.0</td>\n",
              "      <td>0.0</td>\n",
              "      <td>0.0</td>\n",
              "    </tr>\n",
              "    <tr>\n",
              "      <th>29413</th>\n",
              "      <td>/organization/nomanini</td>\n",
              "      <td>Nomanini</td>\n",
              "      <td>http://nomanini.com</td>\n",
              "      <td>|Curated Web|</td>\n",
              "      <td>Curated Web</td>\n",
              "      <td>10,50,000</td>\n",
              "      <td>operating</td>\n",
              "      <td>ZAF</td>\n",
              "      <td>NaN</td>\n",
              "      <td>Cape Town</td>\n",
              "      <td>...</td>\n",
              "      <td>NaN</td>\n",
              "      <td>NaN</td>\n",
              "      <td>NaN</td>\n",
              "      <td>NaN</td>\n",
              "      <td>NaN</td>\n",
              "      <td>NaN</td>\n",
              "      <td>NaN</td>\n",
              "      <td>NaN</td>\n",
              "      <td>NaN</td>\n",
              "      <td>NaN</td>\n",
              "    </tr>\n",
              "  </tbody>\n",
              "</table>\n",
              "<p>5 rows × 39 columns</p>\n",
              "</div>\n",
              "      <button class=\"colab-df-convert\" onclick=\"convertToInteractive('df-887a92eb-4cdc-4751-869b-eb4b24ca1869')\"\n",
              "              title=\"Convert this dataframe to an interactive table.\"\n",
              "              style=\"display:none;\">\n",
              "        \n",
              "  <svg xmlns=\"http://www.w3.org/2000/svg\" height=\"24px\"viewBox=\"0 0 24 24\"\n",
              "       width=\"24px\">\n",
              "    <path d=\"M0 0h24v24H0V0z\" fill=\"none\"/>\n",
              "    <path d=\"M18.56 5.44l.94 2.06.94-2.06 2.06-.94-2.06-.94-.94-2.06-.94 2.06-2.06.94zm-11 1L8.5 8.5l.94-2.06 2.06-.94-2.06-.94L8.5 2.5l-.94 2.06-2.06.94zm10 10l.94 2.06.94-2.06 2.06-.94-2.06-.94-.94-2.06-.94 2.06-2.06.94z\"/><path d=\"M17.41 7.96l-1.37-1.37c-.4-.4-.92-.59-1.43-.59-.52 0-1.04.2-1.43.59L10.3 9.45l-7.72 7.72c-.78.78-.78 2.05 0 2.83L4 21.41c.39.39.9.59 1.41.59.51 0 1.02-.2 1.41-.59l7.78-7.78 2.81-2.81c.8-.78.8-2.07 0-2.86zM5.41 20L4 18.59l7.72-7.72 1.47 1.35L5.41 20z\"/>\n",
              "  </svg>\n",
              "      </button>\n",
              "      \n",
              "  <style>\n",
              "    .colab-df-container {\n",
              "      display:flex;\n",
              "      flex-wrap:wrap;\n",
              "      gap: 12px;\n",
              "    }\n",
              "\n",
              "    .colab-df-convert {\n",
              "      background-color: #E8F0FE;\n",
              "      border: none;\n",
              "      border-radius: 50%;\n",
              "      cursor: pointer;\n",
              "      display: none;\n",
              "      fill: #1967D2;\n",
              "      height: 32px;\n",
              "      padding: 0 0 0 0;\n",
              "      width: 32px;\n",
              "    }\n",
              "\n",
              "    .colab-df-convert:hover {\n",
              "      background-color: #E2EBFA;\n",
              "      box-shadow: 0px 1px 2px rgba(60, 64, 67, 0.3), 0px 1px 3px 1px rgba(60, 64, 67, 0.15);\n",
              "      fill: #174EA6;\n",
              "    }\n",
              "\n",
              "    [theme=dark] .colab-df-convert {\n",
              "      background-color: #3B4455;\n",
              "      fill: #D2E3FC;\n",
              "    }\n",
              "\n",
              "    [theme=dark] .colab-df-convert:hover {\n",
              "      background-color: #434B5C;\n",
              "      box-shadow: 0px 1px 3px 1px rgba(0, 0, 0, 0.15);\n",
              "      filter: drop-shadow(0px 1px 2px rgba(0, 0, 0, 0.3));\n",
              "      fill: #FFFFFF;\n",
              "    }\n",
              "  </style>\n",
              "\n",
              "      <script>\n",
              "        const buttonEl =\n",
              "          document.querySelector('#df-887a92eb-4cdc-4751-869b-eb4b24ca1869 button.colab-df-convert');\n",
              "        buttonEl.style.display =\n",
              "          google.colab.kernel.accessAllowed ? 'block' : 'none';\n",
              "\n",
              "        async function convertToInteractive(key) {\n",
              "          const element = document.querySelector('#df-887a92eb-4cdc-4751-869b-eb4b24ca1869');\n",
              "          const dataTable =\n",
              "            await google.colab.kernel.invokeFunction('convertToInteractive',\n",
              "                                                     [key], {});\n",
              "          if (!dataTable) return;\n",
              "\n",
              "          const docLinkHtml = 'Like what you see? Visit the ' +\n",
              "            '<a target=\"_blank\" href=https://colab.research.google.com/notebooks/data_table.ipynb>data table notebook</a>'\n",
              "            + ' to learn more about interactive tables.';\n",
              "          element.innerHTML = '';\n",
              "          dataTable['output_type'] = 'display_data';\n",
              "          await google.colab.output.renderOutput(dataTable, element);\n",
              "          const docLink = document.createElement('div');\n",
              "          docLink.innerHTML = docLinkHtml;\n",
              "          element.appendChild(docLink);\n",
              "        }\n",
              "      </script>\n",
              "    </div>\n",
              "  </div>\n",
              "  "
            ]
          },
          "metadata": {},
          "execution_count": 9
        }
      ],
      "source": [
        "data.tail()"
      ]
    },
    {
      "cell_type": "markdown",
      "metadata": {
        "id": "Qheg4tGRnHF6"
      },
      "source": [
        "As you can see in two outputs above,\n",
        "we have 58,455 rows of data but some of them not contain any information.\n",
        "It may lead to misdirection summary when we do some analysis or visualize them.\n",
        "\n",
        "Then, I just remove them by select only data which has \"name\" column"
      ]
    },
    {
      "cell_type": "code",
      "execution_count": null,
      "metadata": {
        "id": "0ESChoyXnHF7"
      },
      "outputs": [],
      "source": [
        "## select only data which name is not null\n",
        "\n",
        "data = data[~data.name.isna()]"
      ]
    },
    {
      "cell_type": "code",
      "execution_count": null,
      "metadata": {
        "id": "-DK4RLp_nHF7",
        "colab": {
          "base_uri": "https://localhost:8080/"
        },
        "outputId": "db904962-951e-4e0c-ead3-92be4b4ba6b7"
      },
      "outputs": [
        {
          "output_type": "execute_result",
          "data": {
            "text/plain": [
              "29413"
            ]
          },
          "metadata": {},
          "execution_count": 11
        }
      ],
      "source": [
        "da = data[~data.name.isna()]\n",
        "len(da)"
      ]
    },
    {
      "cell_type": "code",
      "execution_count": null,
      "metadata": {
        "id": "IgepvMcynHF7",
        "colab": {
          "base_uri": "https://localhost:8080/"
        },
        "outputId": "9da92fdd-477e-498d-f99e-809b201a0bda"
      },
      "outputs": [
        {
          "output_type": "execute_result",
          "data": {
            "text/plain": [
              "0        False\n",
              "1        False\n",
              "2        False\n",
              "3        False\n",
              "4        False\n",
              "         ...  \n",
              "29409    False\n",
              "29410    False\n",
              "29411    False\n",
              "29412    False\n",
              "29413    False\n",
              "Name: name, Length: 29413, dtype: bool"
            ]
          },
          "metadata": {},
          "execution_count": 12
        }
      ],
      "source": [
        "data.name.isna()"
      ]
    },
    {
      "cell_type": "code",
      "execution_count": null,
      "metadata": {
        "id": "ACluyQtanHF8",
        "colab": {
          "base_uri": "https://localhost:8080/"
        },
        "outputId": "f3df19fa-ea73-4ff7-b5ec-9f701743c74c"
      },
      "outputs": [
        {
          "output_type": "execute_result",
          "data": {
            "text/plain": [
              "29413"
            ]
          },
          "metadata": {},
          "execution_count": 13
        }
      ],
      "source": [
        "len(data)"
      ]
    },
    {
      "cell_type": "markdown",
      "metadata": {
        "id": "le0SQOgsnHF8"
      },
      "source": [
        "Okay..., we have around 53,598 companies left in our dataset\n"
      ]
    },
    {
      "cell_type": "code",
      "execution_count": null,
      "metadata": {
        "id": "D5QryYxZnHF8",
        "colab": {
          "base_uri": "https://localhost:8080/"
        },
        "outputId": "74abd210-5e14-4216-f2b9-8b8745c8c023"
      },
      "outputs": [
        {
          "output_type": "stream",
          "name": "stdout",
          "text": [
            "<class 'pandas.core.frame.DataFrame'>\n",
            "Int64Index: 29413 entries, 0 to 29413\n",
            "Data columns (total 39 columns):\n",
            " #   Column                Non-Null Count  Dtype  \n",
            "---  ------                --------------  -----  \n",
            " 0   permalink             29413 non-null  object \n",
            " 1   name                  29413 non-null  object \n",
            " 2   homepage_url          27365 non-null  object \n",
            " 3   category_list         27027 non-null  object \n",
            " 4    market               27022 non-null  object \n",
            " 5    funding_total_usd    29413 non-null  object \n",
            " 6   status                28632 non-null  object \n",
            " 7   country_code          26388 non-null  object \n",
            " 8   state_code            18005 non-null  object \n",
            " 9   region                26388 non-null  object \n",
            " 10  city                  25849 non-null  object \n",
            " 11  funding_rounds        29413 non-null  int64  \n",
            " 12  founded_at            22934 non-null  object \n",
            " 13  founded_month         22898 non-null  object \n",
            " 14  founded_quarter       22898 non-null  object \n",
            " 15  founded_year          22898 non-null  float64\n",
            " 16  first_funding_at      29413 non-null  object \n",
            " 17  last_funding_at       29413 non-null  object \n",
            " 18  seed                  29413 non-null  int64  \n",
            " 19  venture               29413 non-null  int64  \n",
            " 20  equity_crowdfunding   29413 non-null  int64  \n",
            " 21  undisclosed           29413 non-null  int64  \n",
            " 22  convertible_note      29413 non-null  int64  \n",
            " 23  debt_financing        29413 non-null  int64  \n",
            " 24  angel                 29413 non-null  int64  \n",
            " 25  grant                 29412 non-null  float64\n",
            " 26  private_equity        29412 non-null  float64\n",
            " 27  post_ipo_equity       29412 non-null  float64\n",
            " 28  post_ipo_debt         29412 non-null  float64\n",
            " 29  secondary_market      29412 non-null  float64\n",
            " 30  product_crowdfunding  29412 non-null  float64\n",
            " 31  round_A               29412 non-null  float64\n",
            " 32  round_B               29412 non-null  float64\n",
            " 33  round_C               29412 non-null  float64\n",
            " 34  round_D               29412 non-null  float64\n",
            " 35  round_E               29412 non-null  float64\n",
            " 36  round_F               29412 non-null  float64\n",
            " 37  round_G               29412 non-null  float64\n",
            " 38  round_H               29412 non-null  float64\n",
            "dtypes: float64(15), int64(8), object(16)\n",
            "memory usage: 9.0+ MB\n"
          ]
        }
      ],
      "source": [
        "data.info()"
      ]
    },
    {
      "cell_type": "code",
      "execution_count": null,
      "metadata": {
        "id": "2_gqoORanHF8",
        "colab": {
          "base_uri": "https://localhost:8080/",
          "height": 403
        },
        "outputId": "53ac4e32-ba41-469e-82a1-d288dab5a7dc"
      },
      "outputs": [
        {
          "output_type": "execute_result",
          "data": {
            "text/plain": [
              "                         permalink                name  \\\n",
              "0            /organization/waywire            #waywire   \n",
              "1  /organization/tv-communications  &TV Communications   \n",
              "2    /organization/rock-your-paper   'Rock' Your Paper   \n",
              "3   /organization/in-touch-network   (In)Touch Network   \n",
              "4   /organization/r-ranch-and-mine  -R- Ranch and Mine   \n",
              "\n",
              "                    homepage_url  \\\n",
              "0         http://www.waywire.com   \n",
              "1          http://enjoyandtv.com   \n",
              "2   http://www.rockyourpaper.org   \n",
              "3  http://www.InTouchNetwork.com   \n",
              "4                            NaN   \n",
              "\n",
              "                                       category_list        market   \\\n",
              "0         |Entertainment|Politics|Social Media|News|          News    \n",
              "1                                            |Games|         Games    \n",
              "2                             |Publishing|Education|    Publishing    \n",
              "3  |Electronics|Guides|Coffee|Restaurants|Music|i...   Electronics    \n",
              "4                      |Tourism|Entertainment|Games|       Tourism    \n",
              "\n",
              "   funding_total_usd      status country_code state_code         region  ...  \\\n",
              "0          17,50,000    acquired          USA         NY  New York City  ...   \n",
              "1          40,00,000   operating          USA         CA    Los Angeles  ...   \n",
              "2             40,000   operating          EST        NaN        Tallinn  ...   \n",
              "3          15,00,000   operating          GBR        NaN         London  ...   \n",
              "4             60,000   operating          USA         TX         Dallas  ...   \n",
              "\n",
              "  secondary_market  product_crowdfunding round_A round_B round_C  round_D  \\\n",
              "0              0.0                   0.0     0.0     0.0     0.0      0.0   \n",
              "1              0.0                   0.0     0.0     0.0     0.0      0.0   \n",
              "2              0.0                   0.0     0.0     0.0     0.0      0.0   \n",
              "3              0.0                   0.0     0.0     0.0     0.0      0.0   \n",
              "4              0.0                   0.0     0.0     0.0     0.0      0.0   \n",
              "\n",
              "  round_E round_F  round_G  round_H  \n",
              "0     0.0     0.0      0.0      0.0  \n",
              "1     0.0     0.0      0.0      0.0  \n",
              "2     0.0     0.0      0.0      0.0  \n",
              "3     0.0     0.0      0.0      0.0  \n",
              "4     0.0     0.0      0.0      0.0  \n",
              "\n",
              "[5 rows x 39 columns]"
            ],
            "text/html": [
              "\n",
              "  <div id=\"df-b1ce85da-47bd-40fd-aaa0-02f27d893f0a\">\n",
              "    <div class=\"colab-df-container\">\n",
              "      <div>\n",
              "<style scoped>\n",
              "    .dataframe tbody tr th:only-of-type {\n",
              "        vertical-align: middle;\n",
              "    }\n",
              "\n",
              "    .dataframe tbody tr th {\n",
              "        vertical-align: top;\n",
              "    }\n",
              "\n",
              "    .dataframe thead th {\n",
              "        text-align: right;\n",
              "    }\n",
              "</style>\n",
              "<table border=\"1\" class=\"dataframe\">\n",
              "  <thead>\n",
              "    <tr style=\"text-align: right;\">\n",
              "      <th></th>\n",
              "      <th>permalink</th>\n",
              "      <th>name</th>\n",
              "      <th>homepage_url</th>\n",
              "      <th>category_list</th>\n",
              "      <th>market</th>\n",
              "      <th>funding_total_usd</th>\n",
              "      <th>status</th>\n",
              "      <th>country_code</th>\n",
              "      <th>state_code</th>\n",
              "      <th>region</th>\n",
              "      <th>...</th>\n",
              "      <th>secondary_market</th>\n",
              "      <th>product_crowdfunding</th>\n",
              "      <th>round_A</th>\n",
              "      <th>round_B</th>\n",
              "      <th>round_C</th>\n",
              "      <th>round_D</th>\n",
              "      <th>round_E</th>\n",
              "      <th>round_F</th>\n",
              "      <th>round_G</th>\n",
              "      <th>round_H</th>\n",
              "    </tr>\n",
              "  </thead>\n",
              "  <tbody>\n",
              "    <tr>\n",
              "      <th>0</th>\n",
              "      <td>/organization/waywire</td>\n",
              "      <td>#waywire</td>\n",
              "      <td>http://www.waywire.com</td>\n",
              "      <td>|Entertainment|Politics|Social Media|News|</td>\n",
              "      <td>News</td>\n",
              "      <td>17,50,000</td>\n",
              "      <td>acquired</td>\n",
              "      <td>USA</td>\n",
              "      <td>NY</td>\n",
              "      <td>New York City</td>\n",
              "      <td>...</td>\n",
              "      <td>0.0</td>\n",
              "      <td>0.0</td>\n",
              "      <td>0.0</td>\n",
              "      <td>0.0</td>\n",
              "      <td>0.0</td>\n",
              "      <td>0.0</td>\n",
              "      <td>0.0</td>\n",
              "      <td>0.0</td>\n",
              "      <td>0.0</td>\n",
              "      <td>0.0</td>\n",
              "    </tr>\n",
              "    <tr>\n",
              "      <th>1</th>\n",
              "      <td>/organization/tv-communications</td>\n",
              "      <td>&amp;TV Communications</td>\n",
              "      <td>http://enjoyandtv.com</td>\n",
              "      <td>|Games|</td>\n",
              "      <td>Games</td>\n",
              "      <td>40,00,000</td>\n",
              "      <td>operating</td>\n",
              "      <td>USA</td>\n",
              "      <td>CA</td>\n",
              "      <td>Los Angeles</td>\n",
              "      <td>...</td>\n",
              "      <td>0.0</td>\n",
              "      <td>0.0</td>\n",
              "      <td>0.0</td>\n",
              "      <td>0.0</td>\n",
              "      <td>0.0</td>\n",
              "      <td>0.0</td>\n",
              "      <td>0.0</td>\n",
              "      <td>0.0</td>\n",
              "      <td>0.0</td>\n",
              "      <td>0.0</td>\n",
              "    </tr>\n",
              "    <tr>\n",
              "      <th>2</th>\n",
              "      <td>/organization/rock-your-paper</td>\n",
              "      <td>'Rock' Your Paper</td>\n",
              "      <td>http://www.rockyourpaper.org</td>\n",
              "      <td>|Publishing|Education|</td>\n",
              "      <td>Publishing</td>\n",
              "      <td>40,000</td>\n",
              "      <td>operating</td>\n",
              "      <td>EST</td>\n",
              "      <td>NaN</td>\n",
              "      <td>Tallinn</td>\n",
              "      <td>...</td>\n",
              "      <td>0.0</td>\n",
              "      <td>0.0</td>\n",
              "      <td>0.0</td>\n",
              "      <td>0.0</td>\n",
              "      <td>0.0</td>\n",
              "      <td>0.0</td>\n",
              "      <td>0.0</td>\n",
              "      <td>0.0</td>\n",
              "      <td>0.0</td>\n",
              "      <td>0.0</td>\n",
              "    </tr>\n",
              "    <tr>\n",
              "      <th>3</th>\n",
              "      <td>/organization/in-touch-network</td>\n",
              "      <td>(In)Touch Network</td>\n",
              "      <td>http://www.InTouchNetwork.com</td>\n",
              "      <td>|Electronics|Guides|Coffee|Restaurants|Music|i...</td>\n",
              "      <td>Electronics</td>\n",
              "      <td>15,00,000</td>\n",
              "      <td>operating</td>\n",
              "      <td>GBR</td>\n",
              "      <td>NaN</td>\n",
              "      <td>London</td>\n",
              "      <td>...</td>\n",
              "      <td>0.0</td>\n",
              "      <td>0.0</td>\n",
              "      <td>0.0</td>\n",
              "      <td>0.0</td>\n",
              "      <td>0.0</td>\n",
              "      <td>0.0</td>\n",
              "      <td>0.0</td>\n",
              "      <td>0.0</td>\n",
              "      <td>0.0</td>\n",
              "      <td>0.0</td>\n",
              "    </tr>\n",
              "    <tr>\n",
              "      <th>4</th>\n",
              "      <td>/organization/r-ranch-and-mine</td>\n",
              "      <td>-R- Ranch and Mine</td>\n",
              "      <td>NaN</td>\n",
              "      <td>|Tourism|Entertainment|Games|</td>\n",
              "      <td>Tourism</td>\n",
              "      <td>60,000</td>\n",
              "      <td>operating</td>\n",
              "      <td>USA</td>\n",
              "      <td>TX</td>\n",
              "      <td>Dallas</td>\n",
              "      <td>...</td>\n",
              "      <td>0.0</td>\n",
              "      <td>0.0</td>\n",
              "      <td>0.0</td>\n",
              "      <td>0.0</td>\n",
              "      <td>0.0</td>\n",
              "      <td>0.0</td>\n",
              "      <td>0.0</td>\n",
              "      <td>0.0</td>\n",
              "      <td>0.0</td>\n",
              "      <td>0.0</td>\n",
              "    </tr>\n",
              "  </tbody>\n",
              "</table>\n",
              "<p>5 rows × 39 columns</p>\n",
              "</div>\n",
              "      <button class=\"colab-df-convert\" onclick=\"convertToInteractive('df-b1ce85da-47bd-40fd-aaa0-02f27d893f0a')\"\n",
              "              title=\"Convert this dataframe to an interactive table.\"\n",
              "              style=\"display:none;\">\n",
              "        \n",
              "  <svg xmlns=\"http://www.w3.org/2000/svg\" height=\"24px\"viewBox=\"0 0 24 24\"\n",
              "       width=\"24px\">\n",
              "    <path d=\"M0 0h24v24H0V0z\" fill=\"none\"/>\n",
              "    <path d=\"M18.56 5.44l.94 2.06.94-2.06 2.06-.94-2.06-.94-.94-2.06-.94 2.06-2.06.94zm-11 1L8.5 8.5l.94-2.06 2.06-.94-2.06-.94L8.5 2.5l-.94 2.06-2.06.94zm10 10l.94 2.06.94-2.06 2.06-.94-2.06-.94-.94-2.06-.94 2.06-2.06.94z\"/><path d=\"M17.41 7.96l-1.37-1.37c-.4-.4-.92-.59-1.43-.59-.52 0-1.04.2-1.43.59L10.3 9.45l-7.72 7.72c-.78.78-.78 2.05 0 2.83L4 21.41c.39.39.9.59 1.41.59.51 0 1.02-.2 1.41-.59l7.78-7.78 2.81-2.81c.8-.78.8-2.07 0-2.86zM5.41 20L4 18.59l7.72-7.72 1.47 1.35L5.41 20z\"/>\n",
              "  </svg>\n",
              "      </button>\n",
              "      \n",
              "  <style>\n",
              "    .colab-df-container {\n",
              "      display:flex;\n",
              "      flex-wrap:wrap;\n",
              "      gap: 12px;\n",
              "    }\n",
              "\n",
              "    .colab-df-convert {\n",
              "      background-color: #E8F0FE;\n",
              "      border: none;\n",
              "      border-radius: 50%;\n",
              "      cursor: pointer;\n",
              "      display: none;\n",
              "      fill: #1967D2;\n",
              "      height: 32px;\n",
              "      padding: 0 0 0 0;\n",
              "      width: 32px;\n",
              "    }\n",
              "\n",
              "    .colab-df-convert:hover {\n",
              "      background-color: #E2EBFA;\n",
              "      box-shadow: 0px 1px 2px rgba(60, 64, 67, 0.3), 0px 1px 3px 1px rgba(60, 64, 67, 0.15);\n",
              "      fill: #174EA6;\n",
              "    }\n",
              "\n",
              "    [theme=dark] .colab-df-convert {\n",
              "      background-color: #3B4455;\n",
              "      fill: #D2E3FC;\n",
              "    }\n",
              "\n",
              "    [theme=dark] .colab-df-convert:hover {\n",
              "      background-color: #434B5C;\n",
              "      box-shadow: 0px 1px 3px 1px rgba(0, 0, 0, 0.15);\n",
              "      filter: drop-shadow(0px 1px 2px rgba(0, 0, 0, 0.3));\n",
              "      fill: #FFFFFF;\n",
              "    }\n",
              "  </style>\n",
              "\n",
              "      <script>\n",
              "        const buttonEl =\n",
              "          document.querySelector('#df-b1ce85da-47bd-40fd-aaa0-02f27d893f0a button.colab-df-convert');\n",
              "        buttonEl.style.display =\n",
              "          google.colab.kernel.accessAllowed ? 'block' : 'none';\n",
              "\n",
              "        async function convertToInteractive(key) {\n",
              "          const element = document.querySelector('#df-b1ce85da-47bd-40fd-aaa0-02f27d893f0a');\n",
              "          const dataTable =\n",
              "            await google.colab.kernel.invokeFunction('convertToInteractive',\n",
              "                                                     [key], {});\n",
              "          if (!dataTable) return;\n",
              "\n",
              "          const docLinkHtml = 'Like what you see? Visit the ' +\n",
              "            '<a target=\"_blank\" href=https://colab.research.google.com/notebooks/data_table.ipynb>data table notebook</a>'\n",
              "            + ' to learn more about interactive tables.';\n",
              "          element.innerHTML = '';\n",
              "          dataTable['output_type'] = 'display_data';\n",
              "          await google.colab.output.renderOutput(dataTable, element);\n",
              "          const docLink = document.createElement('div');\n",
              "          docLink.innerHTML = docLinkHtml;\n",
              "          element.appendChild(docLink);\n",
              "        }\n",
              "      </script>\n",
              "    </div>\n",
              "  </div>\n",
              "  "
            ]
          },
          "metadata": {},
          "execution_count": 15
        }
      ],
      "source": [
        "data.head()"
      ]
    },
    {
      "cell_type": "markdown",
      "metadata": {
        "id": "wa4WTtAonHF9"
      },
      "source": [
        "# Deal with NaN values and Encode Categorical Features"
      ]
    },
    {
      "cell_type": "code",
      "execution_count": null,
      "metadata": {
        "id": "BwCUmx0GnHF9",
        "colab": {
          "base_uri": "https://localhost:8080/"
        },
        "outputId": "cff4f6b6-c8dc-4e27-8907-e7eff98ba3ba"
      },
      "outputs": [
        {
          "output_type": "execute_result",
          "data": {
            "text/plain": [
              "permalink                   0\n",
              "name                        0\n",
              "homepage_url             2048\n",
              "category_list            2386\n",
              " market                  2391\n",
              " funding_total_usd          0\n",
              "status                    781\n",
              "country_code             3025\n",
              "state_code              11408\n",
              "region                   3025\n",
              "city                     3564\n",
              "funding_rounds              0\n",
              "founded_at               6479\n",
              "founded_month            6515\n",
              "founded_quarter          6515\n",
              "founded_year             6515\n",
              "first_funding_at            0\n",
              "last_funding_at             0\n",
              "seed                        0\n",
              "venture                     0\n",
              "equity_crowdfunding         0\n",
              "undisclosed                 0\n",
              "convertible_note            0\n",
              "debt_financing              0\n",
              "angel                       0\n",
              "grant                       1\n",
              "private_equity              1\n",
              "post_ipo_equity             1\n",
              "post_ipo_debt               1\n",
              "secondary_market            1\n",
              "product_crowdfunding        1\n",
              "round_A                     1\n",
              "round_B                     1\n",
              "round_C                     1\n",
              "round_D                     1\n",
              "round_E                     1\n",
              "round_F                     1\n",
              "round_G                     1\n",
              "round_H                     1\n",
              "dtype: int64"
            ]
          },
          "metadata": {},
          "execution_count": 16
        }
      ],
      "source": [
        "data.isna().sum()"
      ]
    },
    {
      "cell_type": "code",
      "execution_count": null,
      "metadata": {
        "id": "AwZArLfqnHF9",
        "colab": {
          "base_uri": "https://localhost:8080/"
        },
        "outputId": "562f46a1-b8f7-416d-caf2-5bb613e068d9"
      },
      "outputs": [
        {
          "output_type": "stream",
          "name": "stdout",
          "text": [
            "['permalink' 'name' 'homepage_url' 'category_list' ' market '\n",
            " ' funding_total_usd ' 'status' 'country_code' 'state_code' 'region'\n",
            " 'city' 'funding_rounds' 'founded_at' 'founded_month' 'founded_quarter'\n",
            " 'founded_year' 'first_funding_at' 'last_funding_at' 'seed' 'venture'\n",
            " 'equity_crowdfunding' 'undisclosed' 'convertible_note' 'debt_financing'\n",
            " 'angel' 'grant' 'private_equity' 'post_ipo_equity' 'post_ipo_debt'\n",
            " 'secondary_market' 'product_crowdfunding' 'round_A' 'round_B' 'round_C'\n",
            " 'round_D' 'round_E' 'round_F' 'round_G' 'round_H']\n"
          ]
        }
      ],
      "source": [
        "print( data.columns.values )"
      ]
    },
    {
      "cell_type": "markdown",
      "metadata": {
        "id": "Q4SrLXennHF-"
      },
      "source": [
        "From those columns above,\n",
        "I will select \"status\", \"market\", \"funding total usd\", \"founded at\" , \"country code\"\n",
        "to do some roughly describe the dataset"
      ]
    },
    {
      "cell_type": "markdown",
      "metadata": {
        "id": "e17zWDnZnHF-"
      },
      "source": [
        "Warning\n",
        "\n",
        "    some column name contains space in string,\n",
        "    I decide to remove them first."
      ]
    },
    {
      "cell_type": "code",
      "execution_count": null,
      "metadata": {
        "id": "cY3-VKBlnHF-"
      },
      "outputs": [],
      "source": [
        "data.rename(columns={' funding_total_usd ': \"funding_total_usd\",\n",
        "                    ' market ': \"market\"},inplace=True)"
      ]
    },
    {
      "cell_type": "markdown",
      "metadata": {
        "id": "gvwNZgCTnHF-"
      },
      "source": []
    },
    {
      "cell_type": "markdown",
      "metadata": {
        "id": "q31QSV3bnHF_"
      },
      "source": [
        "status"
      ]
    },
    {
      "cell_type": "code",
      "execution_count": null,
      "metadata": {
        "id": "zU_4UgHYnHF_",
        "colab": {
          "base_uri": "https://localhost:8080/"
        },
        "outputId": "04e8ea52-367a-4fc9-99a5-e142c507c801"
      },
      "outputs": [
        {
          "output_type": "execute_result",
          "data": {
            "text/plain": [
              "operating    24911\n",
              "acquired      2202\n",
              "closed        1519\n",
              "Name: status, dtype: int64"
            ]
          },
          "metadata": {},
          "execution_count": 19
        }
      ],
      "source": [
        "data['status'].value_counts()"
      ]
    },
    {
      "cell_type": "code",
      "execution_count": null,
      "metadata": {
        "id": "aqp5Hi2XnHF_",
        "colab": {
          "base_uri": "https://localhost:8080/",
          "height": 393
        },
        "outputId": "bb6f8a3b-dd31-491f-daca-b0ab7e032005"
      },
      "outputs": [
        {
          "output_type": "execute_result",
          "data": {
            "text/plain": [
              "       funding_rounds  founded_year          seed       venture  \\\n",
              "count    29413.000000  22898.000000  2.941300e+04  2.941300e+04   \n",
              "mean         1.691327   2007.251550  2.124065e+05  7.621076e+06   \n",
              "std          1.288629      7.455404  1.027884e+06  2.999611e+07   \n",
              "min          1.000000   1905.000000  0.000000e+00  0.000000e+00   \n",
              "25%          1.000000   2005.000000  0.000000e+00  0.000000e+00   \n",
              "50%          1.000000   2009.000000  0.000000e+00  0.000000e+00   \n",
              "75%          2.000000   2012.000000  2.011800e+04  5.000000e+06   \n",
              "max         16.000000   2014.000000  1.300000e+08  2.351000e+09   \n",
              "\n",
              "       equity_crowdfunding   undisclosed  convertible_note  debt_financing  \\\n",
              "count         2.941300e+04  2.941300e+04      2.941300e+04    2.941300e+04   \n",
              "mean          7.306514e+03  1.339106e+05      2.389695e+04    1.295374e+06   \n",
              "std           2.410884e+05  3.182964e+06      1.780629e+06    2.998101e+07   \n",
              "min           0.000000e+00  0.000000e+00      0.000000e+00    0.000000e+00   \n",
              "25%           0.000000e+00  0.000000e+00      0.000000e+00    0.000000e+00   \n",
              "50%           0.000000e+00  0.000000e+00      0.000000e+00    0.000000e+00   \n",
              "75%           0.000000e+00  0.000000e+00      0.000000e+00    0.000000e+00   \n",
              "max           2.500000e+07  2.924328e+08      3.000000e+08    3.200000e+09   \n",
              "\n",
              "              angel         grant  ...  secondary_market  \\\n",
              "count  2.941300e+04  2.941200e+04  ...      2.941200e+04   \n",
              "mean   6.431673e+04  1.441559e+05  ...      2.602487e+04   \n",
              "std    6.735275e+05  4.534890e+06  ...      1.970983e+06   \n",
              "min    0.000000e+00  0.000000e+00  ...      0.000000e+00   \n",
              "25%    0.000000e+00  0.000000e+00  ...      0.000000e+00   \n",
              "50%    0.000000e+00  0.000000e+00  ...      0.000000e+00   \n",
              "75%    0.000000e+00  0.000000e+00  ...      0.000000e+00   \n",
              "max    6.359026e+07  4.120000e+08  ...      2.100000e+08   \n",
              "\n",
              "       product_crowdfunding       round_A       round_B       round_C  \\\n",
              "count          2.941200e+04  2.941200e+04  2.941200e+04  2.941200e+04   \n",
              "mean           5.936001e+03  1.258268e+06  1.481425e+06  1.203328e+06   \n",
              "std            3.360112e+05  5.723445e+06  7.626791e+06  8.068327e+06   \n",
              "min            0.000000e+00  0.000000e+00  0.000000e+00  0.000000e+00   \n",
              "25%            0.000000e+00  0.000000e+00  0.000000e+00  0.000000e+00   \n",
              "50%            0.000000e+00  0.000000e+00  0.000000e+00  0.000000e+00   \n",
              "75%            0.000000e+00  0.000000e+00  0.000000e+00  0.000000e+00   \n",
              "max            5.200000e+07  3.190000e+08  5.420000e+08  3.750000e+08   \n",
              "\n",
              "            round_D       round_E       round_F       round_G       round_H  \n",
              "count  2.941200e+04  2.941200e+04  2.941200e+04  2.941200e+04  2.941200e+04  \n",
              "mean   7.514775e+05  3.677140e+05  1.722205e+05  5.483533e+04  2.392221e+04  \n",
              "std    9.316786e+06  5.951087e+06  7.097864e+06  6.204726e+06  3.522372e+06  \n",
              "min    0.000000e+00  0.000000e+00  0.000000e+00  0.000000e+00  0.000000e+00  \n",
              "25%    0.000000e+00  0.000000e+00  0.000000e+00  0.000000e+00  0.000000e+00  \n",
              "50%    0.000000e+00  0.000000e+00  0.000000e+00  0.000000e+00  0.000000e+00  \n",
              "75%    0.000000e+00  0.000000e+00  0.000000e+00  0.000000e+00  0.000000e+00  \n",
              "max    9.500000e+08  4.000000e+08  1.060000e+09  1.000000e+09  6.000000e+08  \n",
              "\n",
              "[8 rows x 23 columns]"
            ],
            "text/html": [
              "\n",
              "  <div id=\"df-d7d68610-367c-4382-99e1-da7211b2f184\">\n",
              "    <div class=\"colab-df-container\">\n",
              "      <div>\n",
              "<style scoped>\n",
              "    .dataframe tbody tr th:only-of-type {\n",
              "        vertical-align: middle;\n",
              "    }\n",
              "\n",
              "    .dataframe tbody tr th {\n",
              "        vertical-align: top;\n",
              "    }\n",
              "\n",
              "    .dataframe thead th {\n",
              "        text-align: right;\n",
              "    }\n",
              "</style>\n",
              "<table border=\"1\" class=\"dataframe\">\n",
              "  <thead>\n",
              "    <tr style=\"text-align: right;\">\n",
              "      <th></th>\n",
              "      <th>funding_rounds</th>\n",
              "      <th>founded_year</th>\n",
              "      <th>seed</th>\n",
              "      <th>venture</th>\n",
              "      <th>equity_crowdfunding</th>\n",
              "      <th>undisclosed</th>\n",
              "      <th>convertible_note</th>\n",
              "      <th>debt_financing</th>\n",
              "      <th>angel</th>\n",
              "      <th>grant</th>\n",
              "      <th>...</th>\n",
              "      <th>secondary_market</th>\n",
              "      <th>product_crowdfunding</th>\n",
              "      <th>round_A</th>\n",
              "      <th>round_B</th>\n",
              "      <th>round_C</th>\n",
              "      <th>round_D</th>\n",
              "      <th>round_E</th>\n",
              "      <th>round_F</th>\n",
              "      <th>round_G</th>\n",
              "      <th>round_H</th>\n",
              "    </tr>\n",
              "  </thead>\n",
              "  <tbody>\n",
              "    <tr>\n",
              "      <th>count</th>\n",
              "      <td>29413.000000</td>\n",
              "      <td>22898.000000</td>\n",
              "      <td>2.941300e+04</td>\n",
              "      <td>2.941300e+04</td>\n",
              "      <td>2.941300e+04</td>\n",
              "      <td>2.941300e+04</td>\n",
              "      <td>2.941300e+04</td>\n",
              "      <td>2.941300e+04</td>\n",
              "      <td>2.941300e+04</td>\n",
              "      <td>2.941200e+04</td>\n",
              "      <td>...</td>\n",
              "      <td>2.941200e+04</td>\n",
              "      <td>2.941200e+04</td>\n",
              "      <td>2.941200e+04</td>\n",
              "      <td>2.941200e+04</td>\n",
              "      <td>2.941200e+04</td>\n",
              "      <td>2.941200e+04</td>\n",
              "      <td>2.941200e+04</td>\n",
              "      <td>2.941200e+04</td>\n",
              "      <td>2.941200e+04</td>\n",
              "      <td>2.941200e+04</td>\n",
              "    </tr>\n",
              "    <tr>\n",
              "      <th>mean</th>\n",
              "      <td>1.691327</td>\n",
              "      <td>2007.251550</td>\n",
              "      <td>2.124065e+05</td>\n",
              "      <td>7.621076e+06</td>\n",
              "      <td>7.306514e+03</td>\n",
              "      <td>1.339106e+05</td>\n",
              "      <td>2.389695e+04</td>\n",
              "      <td>1.295374e+06</td>\n",
              "      <td>6.431673e+04</td>\n",
              "      <td>1.441559e+05</td>\n",
              "      <td>...</td>\n",
              "      <td>2.602487e+04</td>\n",
              "      <td>5.936001e+03</td>\n",
              "      <td>1.258268e+06</td>\n",
              "      <td>1.481425e+06</td>\n",
              "      <td>1.203328e+06</td>\n",
              "      <td>7.514775e+05</td>\n",
              "      <td>3.677140e+05</td>\n",
              "      <td>1.722205e+05</td>\n",
              "      <td>5.483533e+04</td>\n",
              "      <td>2.392221e+04</td>\n",
              "    </tr>\n",
              "    <tr>\n",
              "      <th>std</th>\n",
              "      <td>1.288629</td>\n",
              "      <td>7.455404</td>\n",
              "      <td>1.027884e+06</td>\n",
              "      <td>2.999611e+07</td>\n",
              "      <td>2.410884e+05</td>\n",
              "      <td>3.182964e+06</td>\n",
              "      <td>1.780629e+06</td>\n",
              "      <td>2.998101e+07</td>\n",
              "      <td>6.735275e+05</td>\n",
              "      <td>4.534890e+06</td>\n",
              "      <td>...</td>\n",
              "      <td>1.970983e+06</td>\n",
              "      <td>3.360112e+05</td>\n",
              "      <td>5.723445e+06</td>\n",
              "      <td>7.626791e+06</td>\n",
              "      <td>8.068327e+06</td>\n",
              "      <td>9.316786e+06</td>\n",
              "      <td>5.951087e+06</td>\n",
              "      <td>7.097864e+06</td>\n",
              "      <td>6.204726e+06</td>\n",
              "      <td>3.522372e+06</td>\n",
              "    </tr>\n",
              "    <tr>\n",
              "      <th>min</th>\n",
              "      <td>1.000000</td>\n",
              "      <td>1905.000000</td>\n",
              "      <td>0.000000e+00</td>\n",
              "      <td>0.000000e+00</td>\n",
              "      <td>0.000000e+00</td>\n",
              "      <td>0.000000e+00</td>\n",
              "      <td>0.000000e+00</td>\n",
              "      <td>0.000000e+00</td>\n",
              "      <td>0.000000e+00</td>\n",
              "      <td>0.000000e+00</td>\n",
              "      <td>...</td>\n",
              "      <td>0.000000e+00</td>\n",
              "      <td>0.000000e+00</td>\n",
              "      <td>0.000000e+00</td>\n",
              "      <td>0.000000e+00</td>\n",
              "      <td>0.000000e+00</td>\n",
              "      <td>0.000000e+00</td>\n",
              "      <td>0.000000e+00</td>\n",
              "      <td>0.000000e+00</td>\n",
              "      <td>0.000000e+00</td>\n",
              "      <td>0.000000e+00</td>\n",
              "    </tr>\n",
              "    <tr>\n",
              "      <th>25%</th>\n",
              "      <td>1.000000</td>\n",
              "      <td>2005.000000</td>\n",
              "      <td>0.000000e+00</td>\n",
              "      <td>0.000000e+00</td>\n",
              "      <td>0.000000e+00</td>\n",
              "      <td>0.000000e+00</td>\n",
              "      <td>0.000000e+00</td>\n",
              "      <td>0.000000e+00</td>\n",
              "      <td>0.000000e+00</td>\n",
              "      <td>0.000000e+00</td>\n",
              "      <td>...</td>\n",
              "      <td>0.000000e+00</td>\n",
              "      <td>0.000000e+00</td>\n",
              "      <td>0.000000e+00</td>\n",
              "      <td>0.000000e+00</td>\n",
              "      <td>0.000000e+00</td>\n",
              "      <td>0.000000e+00</td>\n",
              "      <td>0.000000e+00</td>\n",
              "      <td>0.000000e+00</td>\n",
              "      <td>0.000000e+00</td>\n",
              "      <td>0.000000e+00</td>\n",
              "    </tr>\n",
              "    <tr>\n",
              "      <th>50%</th>\n",
              "      <td>1.000000</td>\n",
              "      <td>2009.000000</td>\n",
              "      <td>0.000000e+00</td>\n",
              "      <td>0.000000e+00</td>\n",
              "      <td>0.000000e+00</td>\n",
              "      <td>0.000000e+00</td>\n",
              "      <td>0.000000e+00</td>\n",
              "      <td>0.000000e+00</td>\n",
              "      <td>0.000000e+00</td>\n",
              "      <td>0.000000e+00</td>\n",
              "      <td>...</td>\n",
              "      <td>0.000000e+00</td>\n",
              "      <td>0.000000e+00</td>\n",
              "      <td>0.000000e+00</td>\n",
              "      <td>0.000000e+00</td>\n",
              "      <td>0.000000e+00</td>\n",
              "      <td>0.000000e+00</td>\n",
              "      <td>0.000000e+00</td>\n",
              "      <td>0.000000e+00</td>\n",
              "      <td>0.000000e+00</td>\n",
              "      <td>0.000000e+00</td>\n",
              "    </tr>\n",
              "    <tr>\n",
              "      <th>75%</th>\n",
              "      <td>2.000000</td>\n",
              "      <td>2012.000000</td>\n",
              "      <td>2.011800e+04</td>\n",
              "      <td>5.000000e+06</td>\n",
              "      <td>0.000000e+00</td>\n",
              "      <td>0.000000e+00</td>\n",
              "      <td>0.000000e+00</td>\n",
              "      <td>0.000000e+00</td>\n",
              "      <td>0.000000e+00</td>\n",
              "      <td>0.000000e+00</td>\n",
              "      <td>...</td>\n",
              "      <td>0.000000e+00</td>\n",
              "      <td>0.000000e+00</td>\n",
              "      <td>0.000000e+00</td>\n",
              "      <td>0.000000e+00</td>\n",
              "      <td>0.000000e+00</td>\n",
              "      <td>0.000000e+00</td>\n",
              "      <td>0.000000e+00</td>\n",
              "      <td>0.000000e+00</td>\n",
              "      <td>0.000000e+00</td>\n",
              "      <td>0.000000e+00</td>\n",
              "    </tr>\n",
              "    <tr>\n",
              "      <th>max</th>\n",
              "      <td>16.000000</td>\n",
              "      <td>2014.000000</td>\n",
              "      <td>1.300000e+08</td>\n",
              "      <td>2.351000e+09</td>\n",
              "      <td>2.500000e+07</td>\n",
              "      <td>2.924328e+08</td>\n",
              "      <td>3.000000e+08</td>\n",
              "      <td>3.200000e+09</td>\n",
              "      <td>6.359026e+07</td>\n",
              "      <td>4.120000e+08</td>\n",
              "      <td>...</td>\n",
              "      <td>2.100000e+08</td>\n",
              "      <td>5.200000e+07</td>\n",
              "      <td>3.190000e+08</td>\n",
              "      <td>5.420000e+08</td>\n",
              "      <td>3.750000e+08</td>\n",
              "      <td>9.500000e+08</td>\n",
              "      <td>4.000000e+08</td>\n",
              "      <td>1.060000e+09</td>\n",
              "      <td>1.000000e+09</td>\n",
              "      <td>6.000000e+08</td>\n",
              "    </tr>\n",
              "  </tbody>\n",
              "</table>\n",
              "<p>8 rows × 23 columns</p>\n",
              "</div>\n",
              "      <button class=\"colab-df-convert\" onclick=\"convertToInteractive('df-d7d68610-367c-4382-99e1-da7211b2f184')\"\n",
              "              title=\"Convert this dataframe to an interactive table.\"\n",
              "              style=\"display:none;\">\n",
              "        \n",
              "  <svg xmlns=\"http://www.w3.org/2000/svg\" height=\"24px\"viewBox=\"0 0 24 24\"\n",
              "       width=\"24px\">\n",
              "    <path d=\"M0 0h24v24H0V0z\" fill=\"none\"/>\n",
              "    <path d=\"M18.56 5.44l.94 2.06.94-2.06 2.06-.94-2.06-.94-.94-2.06-.94 2.06-2.06.94zm-11 1L8.5 8.5l.94-2.06 2.06-.94-2.06-.94L8.5 2.5l-.94 2.06-2.06.94zm10 10l.94 2.06.94-2.06 2.06-.94-2.06-.94-.94-2.06-.94 2.06-2.06.94z\"/><path d=\"M17.41 7.96l-1.37-1.37c-.4-.4-.92-.59-1.43-.59-.52 0-1.04.2-1.43.59L10.3 9.45l-7.72 7.72c-.78.78-.78 2.05 0 2.83L4 21.41c.39.39.9.59 1.41.59.51 0 1.02-.2 1.41-.59l7.78-7.78 2.81-2.81c.8-.78.8-2.07 0-2.86zM5.41 20L4 18.59l7.72-7.72 1.47 1.35L5.41 20z\"/>\n",
              "  </svg>\n",
              "      </button>\n",
              "      \n",
              "  <style>\n",
              "    .colab-df-container {\n",
              "      display:flex;\n",
              "      flex-wrap:wrap;\n",
              "      gap: 12px;\n",
              "    }\n",
              "\n",
              "    .colab-df-convert {\n",
              "      background-color: #E8F0FE;\n",
              "      border: none;\n",
              "      border-radius: 50%;\n",
              "      cursor: pointer;\n",
              "      display: none;\n",
              "      fill: #1967D2;\n",
              "      height: 32px;\n",
              "      padding: 0 0 0 0;\n",
              "      width: 32px;\n",
              "    }\n",
              "\n",
              "    .colab-df-convert:hover {\n",
              "      background-color: #E2EBFA;\n",
              "      box-shadow: 0px 1px 2px rgba(60, 64, 67, 0.3), 0px 1px 3px 1px rgba(60, 64, 67, 0.15);\n",
              "      fill: #174EA6;\n",
              "    }\n",
              "\n",
              "    [theme=dark] .colab-df-convert {\n",
              "      background-color: #3B4455;\n",
              "      fill: #D2E3FC;\n",
              "    }\n",
              "\n",
              "    [theme=dark] .colab-df-convert:hover {\n",
              "      background-color: #434B5C;\n",
              "      box-shadow: 0px 1px 3px 1px rgba(0, 0, 0, 0.15);\n",
              "      filter: drop-shadow(0px 1px 2px rgba(0, 0, 0, 0.3));\n",
              "      fill: #FFFFFF;\n",
              "    }\n",
              "  </style>\n",
              "\n",
              "      <script>\n",
              "        const buttonEl =\n",
              "          document.querySelector('#df-d7d68610-367c-4382-99e1-da7211b2f184 button.colab-df-convert');\n",
              "        buttonEl.style.display =\n",
              "          google.colab.kernel.accessAllowed ? 'block' : 'none';\n",
              "\n",
              "        async function convertToInteractive(key) {\n",
              "          const element = document.querySelector('#df-d7d68610-367c-4382-99e1-da7211b2f184');\n",
              "          const dataTable =\n",
              "            await google.colab.kernel.invokeFunction('convertToInteractive',\n",
              "                                                     [key], {});\n",
              "          if (!dataTable) return;\n",
              "\n",
              "          const docLinkHtml = 'Like what you see? Visit the ' +\n",
              "            '<a target=\"_blank\" href=https://colab.research.google.com/notebooks/data_table.ipynb>data table notebook</a>'\n",
              "            + ' to learn more about interactive tables.';\n",
              "          element.innerHTML = '';\n",
              "          dataTable['output_type'] = 'display_data';\n",
              "          await google.colab.output.renderOutput(dataTable, element);\n",
              "          const docLink = document.createElement('div');\n",
              "          docLink.innerHTML = docLinkHtml;\n",
              "          element.appendChild(docLink);\n",
              "        }\n",
              "      </script>\n",
              "    </div>\n",
              "  </div>\n",
              "  "
            ]
          },
          "metadata": {},
          "execution_count": 20
        }
      ],
      "source": [
        "data.describe()"
      ]
    },
    {
      "cell_type": "code",
      "execution_count": null,
      "metadata": {
        "scrolled": true,
        "id": "UxHxpxkQnHF_",
        "colab": {
          "base_uri": "https://localhost:8080/",
          "height": 256
        },
        "outputId": "1b3e6fe6-483f-4bd7-d867-e71b3813020f"
      },
      "outputs": [
        {
          "output_type": "execute_result",
          "data": {
            "text/plain": [
              "                    permalink     name             homepage_url  \\\n",
              "count                   29413    29413                    27365   \n",
              "unique                  29413    29373                    27294   \n",
              "top     /organization/waywire  Compass  http://www.cgtrader.com   \n",
              "freq                        1        3                        2   \n",
              "\n",
              "          category_list      market funding_total_usd     status country_code  \\\n",
              "count             27027       27022             29413      28632        26388   \n",
              "unique            10057         703              9345          3          102   \n",
              "top     |Biotechnology|   Software               -     operating          USA   \n",
              "freq               2324        2730              5106      24911        17195   \n",
              "\n",
              "       state_code       region           city  founded_at founded_month  \\\n",
              "count       18005        26388          25849       22934         22898   \n",
              "unique         61          949           3212        2635           374   \n",
              "top            CA  SF Bay Area  San Francisco  2011-01-01       2011-01   \n",
              "freq         5893         3999           1504        1282          1354   \n",
              "\n",
              "       founded_quarter first_funding_at last_funding_at  \n",
              "count            22898            29413           29413  \n",
              "unique             191             3528            3262  \n",
              "top            2012-Q1       2013-01-01      2013-01-01  \n",
              "freq              1679              276             224  "
            ],
            "text/html": [
              "\n",
              "  <div id=\"df-0f817a07-0001-444d-a288-71cc749132cf\">\n",
              "    <div class=\"colab-df-container\">\n",
              "      <div>\n",
              "<style scoped>\n",
              "    .dataframe tbody tr th:only-of-type {\n",
              "        vertical-align: middle;\n",
              "    }\n",
              "\n",
              "    .dataframe tbody tr th {\n",
              "        vertical-align: top;\n",
              "    }\n",
              "\n",
              "    .dataframe thead th {\n",
              "        text-align: right;\n",
              "    }\n",
              "</style>\n",
              "<table border=\"1\" class=\"dataframe\">\n",
              "  <thead>\n",
              "    <tr style=\"text-align: right;\">\n",
              "      <th></th>\n",
              "      <th>permalink</th>\n",
              "      <th>name</th>\n",
              "      <th>homepage_url</th>\n",
              "      <th>category_list</th>\n",
              "      <th>market</th>\n",
              "      <th>funding_total_usd</th>\n",
              "      <th>status</th>\n",
              "      <th>country_code</th>\n",
              "      <th>state_code</th>\n",
              "      <th>region</th>\n",
              "      <th>city</th>\n",
              "      <th>founded_at</th>\n",
              "      <th>founded_month</th>\n",
              "      <th>founded_quarter</th>\n",
              "      <th>first_funding_at</th>\n",
              "      <th>last_funding_at</th>\n",
              "    </tr>\n",
              "  </thead>\n",
              "  <tbody>\n",
              "    <tr>\n",
              "      <th>count</th>\n",
              "      <td>29413</td>\n",
              "      <td>29413</td>\n",
              "      <td>27365</td>\n",
              "      <td>27027</td>\n",
              "      <td>27022</td>\n",
              "      <td>29413</td>\n",
              "      <td>28632</td>\n",
              "      <td>26388</td>\n",
              "      <td>18005</td>\n",
              "      <td>26388</td>\n",
              "      <td>25849</td>\n",
              "      <td>22934</td>\n",
              "      <td>22898</td>\n",
              "      <td>22898</td>\n",
              "      <td>29413</td>\n",
              "      <td>29413</td>\n",
              "    </tr>\n",
              "    <tr>\n",
              "      <th>unique</th>\n",
              "      <td>29413</td>\n",
              "      <td>29373</td>\n",
              "      <td>27294</td>\n",
              "      <td>10057</td>\n",
              "      <td>703</td>\n",
              "      <td>9345</td>\n",
              "      <td>3</td>\n",
              "      <td>102</td>\n",
              "      <td>61</td>\n",
              "      <td>949</td>\n",
              "      <td>3212</td>\n",
              "      <td>2635</td>\n",
              "      <td>374</td>\n",
              "      <td>191</td>\n",
              "      <td>3528</td>\n",
              "      <td>3262</td>\n",
              "    </tr>\n",
              "    <tr>\n",
              "      <th>top</th>\n",
              "      <td>/organization/waywire</td>\n",
              "      <td>Compass</td>\n",
              "      <td>http://www.cgtrader.com</td>\n",
              "      <td>|Biotechnology|</td>\n",
              "      <td>Software</td>\n",
              "      <td>-</td>\n",
              "      <td>operating</td>\n",
              "      <td>USA</td>\n",
              "      <td>CA</td>\n",
              "      <td>SF Bay Area</td>\n",
              "      <td>San Francisco</td>\n",
              "      <td>2011-01-01</td>\n",
              "      <td>2011-01</td>\n",
              "      <td>2012-Q1</td>\n",
              "      <td>2013-01-01</td>\n",
              "      <td>2013-01-01</td>\n",
              "    </tr>\n",
              "    <tr>\n",
              "      <th>freq</th>\n",
              "      <td>1</td>\n",
              "      <td>3</td>\n",
              "      <td>2</td>\n",
              "      <td>2324</td>\n",
              "      <td>2730</td>\n",
              "      <td>5106</td>\n",
              "      <td>24911</td>\n",
              "      <td>17195</td>\n",
              "      <td>5893</td>\n",
              "      <td>3999</td>\n",
              "      <td>1504</td>\n",
              "      <td>1282</td>\n",
              "      <td>1354</td>\n",
              "      <td>1679</td>\n",
              "      <td>276</td>\n",
              "      <td>224</td>\n",
              "    </tr>\n",
              "  </tbody>\n",
              "</table>\n",
              "</div>\n",
              "      <button class=\"colab-df-convert\" onclick=\"convertToInteractive('df-0f817a07-0001-444d-a288-71cc749132cf')\"\n",
              "              title=\"Convert this dataframe to an interactive table.\"\n",
              "              style=\"display:none;\">\n",
              "        \n",
              "  <svg xmlns=\"http://www.w3.org/2000/svg\" height=\"24px\"viewBox=\"0 0 24 24\"\n",
              "       width=\"24px\">\n",
              "    <path d=\"M0 0h24v24H0V0z\" fill=\"none\"/>\n",
              "    <path d=\"M18.56 5.44l.94 2.06.94-2.06 2.06-.94-2.06-.94-.94-2.06-.94 2.06-2.06.94zm-11 1L8.5 8.5l.94-2.06 2.06-.94-2.06-.94L8.5 2.5l-.94 2.06-2.06.94zm10 10l.94 2.06.94-2.06 2.06-.94-2.06-.94-.94-2.06-.94 2.06-2.06.94z\"/><path d=\"M17.41 7.96l-1.37-1.37c-.4-.4-.92-.59-1.43-.59-.52 0-1.04.2-1.43.59L10.3 9.45l-7.72 7.72c-.78.78-.78 2.05 0 2.83L4 21.41c.39.39.9.59 1.41.59.51 0 1.02-.2 1.41-.59l7.78-7.78 2.81-2.81c.8-.78.8-2.07 0-2.86zM5.41 20L4 18.59l7.72-7.72 1.47 1.35L5.41 20z\"/>\n",
              "  </svg>\n",
              "      </button>\n",
              "      \n",
              "  <style>\n",
              "    .colab-df-container {\n",
              "      display:flex;\n",
              "      flex-wrap:wrap;\n",
              "      gap: 12px;\n",
              "    }\n",
              "\n",
              "    .colab-df-convert {\n",
              "      background-color: #E8F0FE;\n",
              "      border: none;\n",
              "      border-radius: 50%;\n",
              "      cursor: pointer;\n",
              "      display: none;\n",
              "      fill: #1967D2;\n",
              "      height: 32px;\n",
              "      padding: 0 0 0 0;\n",
              "      width: 32px;\n",
              "    }\n",
              "\n",
              "    .colab-df-convert:hover {\n",
              "      background-color: #E2EBFA;\n",
              "      box-shadow: 0px 1px 2px rgba(60, 64, 67, 0.3), 0px 1px 3px 1px rgba(60, 64, 67, 0.15);\n",
              "      fill: #174EA6;\n",
              "    }\n",
              "\n",
              "    [theme=dark] .colab-df-convert {\n",
              "      background-color: #3B4455;\n",
              "      fill: #D2E3FC;\n",
              "    }\n",
              "\n",
              "    [theme=dark] .colab-df-convert:hover {\n",
              "      background-color: #434B5C;\n",
              "      box-shadow: 0px 1px 3px 1px rgba(0, 0, 0, 0.15);\n",
              "      filter: drop-shadow(0px 1px 2px rgba(0, 0, 0, 0.3));\n",
              "      fill: #FFFFFF;\n",
              "    }\n",
              "  </style>\n",
              "\n",
              "      <script>\n",
              "        const buttonEl =\n",
              "          document.querySelector('#df-0f817a07-0001-444d-a288-71cc749132cf button.colab-df-convert');\n",
              "        buttonEl.style.display =\n",
              "          google.colab.kernel.accessAllowed ? 'block' : 'none';\n",
              "\n",
              "        async function convertToInteractive(key) {\n",
              "          const element = document.querySelector('#df-0f817a07-0001-444d-a288-71cc749132cf');\n",
              "          const dataTable =\n",
              "            await google.colab.kernel.invokeFunction('convertToInteractive',\n",
              "                                                     [key], {});\n",
              "          if (!dataTable) return;\n",
              "\n",
              "          const docLinkHtml = 'Like what you see? Visit the ' +\n",
              "            '<a target=\"_blank\" href=https://colab.research.google.com/notebooks/data_table.ipynb>data table notebook</a>'\n",
              "            + ' to learn more about interactive tables.';\n",
              "          element.innerHTML = '';\n",
              "          dataTable['output_type'] = 'display_data';\n",
              "          await google.colab.output.renderOutput(dataTable, element);\n",
              "          const docLink = document.createElement('div');\n",
              "          docLink.innerHTML = docLinkHtml;\n",
              "          element.appendChild(docLink);\n",
              "        }\n",
              "      </script>\n",
              "    </div>\n",
              "  </div>\n",
              "  "
            ]
          },
          "metadata": {},
          "execution_count": 21
        }
      ],
      "source": [
        "# Describing a non Numerical Data\n",
        "data.describe(exclude=[np.number])"
      ]
    },
    {
      "cell_type": "code",
      "execution_count": null,
      "metadata": {
        "id": "i_T-zD5QnHGA",
        "colab": {
          "base_uri": "https://localhost:8080/"
        },
        "outputId": "3540674d-2c9a-4844-c2b7-f82a9ad08386"
      },
      "outputs": [
        {
          "output_type": "execute_result",
          "data": {
            "text/plain": [
              "0        New York City\n",
              "1          Los Angeles\n",
              "2              Tallinn\n",
              "3               London\n",
              "4               Dallas\n",
              "             ...      \n",
              "29409      SF Bay Area\n",
              "29410          Roanoke\n",
              "29411           Austin\n",
              "29412        Barcelona\n",
              "29413        Cape Town\n",
              "Name: region, Length: 29413, dtype: object"
            ]
          },
          "metadata": {},
          "execution_count": 22
        }
      ],
      "source": [
        "data.region"
      ]
    },
    {
      "cell_type": "code",
      "execution_count": null,
      "metadata": {
        "scrolled": false,
        "id": "ZrmJ4sqRnHGA",
        "colab": {
          "base_uri": "https://localhost:8080/"
        },
        "outputId": "483c1f72-40c5-44d8-cd40-57e192076090"
      },
      "outputs": [
        {
          "output_type": "execute_result",
          "data": {
            "text/plain": [
              "0         True\n",
              "1        False\n",
              "2        False\n",
              "3        False\n",
              "4        False\n",
              "         ...  \n",
              "29409    False\n",
              "29410    False\n",
              "29411    False\n",
              "29412    False\n",
              "29413    False\n",
              "Name: city, Length: 29413, dtype: bool"
            ]
          },
          "metadata": {},
          "execution_count": 23
        }
      ],
      "source": [
        "data.city == 'New York'"
      ]
    },
    {
      "cell_type": "markdown",
      "metadata": {
        "id": "ci1R_r5FnHGB"
      },
      "source": [
        "# Visualization"
      ]
    },
    {
      "cell_type": "code",
      "execution_count": null,
      "metadata": {
        "scrolled": false,
        "id": "rhIBhEifnHGB",
        "colab": {
          "base_uri": "https://localhost:8080/",
          "height": 830
        },
        "outputId": "6e250778-a8b8-4968-c1b1-e9ceefc6b6bd"
      },
      "outputs": [
        {
          "output_type": "display_data",
          "data": {
            "text/plain": [
              "<Figure size 800x800 with 1 Axes>"
            ],
            "image/png": "[encoded data removed]"
          },
          "metadata": {}
        }
      ],
      "source": [
        "plt.rcParams['figure.figsize'] = 8,8\n",
        "labels = data['status'].value_counts().index.tolist()\n",
        "sizes = data['status'].value_counts().tolist()\n",
        "explode = (0, 0, 0.2)\n",
        "colors = ['#99ff99','#66b3ff','#ff9999']\n",
        "\n",
        "plt.pie(sizes, explode=None, labels=labels, colors=colors, autopct='%1.1f%%', shadow=False, startangle=30)\n",
        "plt.axis('equal')\n",
        "plt.tight_layout()\n",
        "plt.title(\"What is start up companies current status\", fontdict=None, position= [0.88,2], size = 'x-large')\n",
        "plt.show()"
      ]
    },
    {
      "cell_type": "markdown",
      "metadata": {
        "id": "rYEJh9WEnHGB"
      },
      "source": [
        "Most of company (86.9 %) in this dataset is operating,\n",
        "and around 5.4 % company is already closed."
      ]
    },
    {
      "cell_type": "code",
      "execution_count": null,
      "metadata": {
        "id": "IbKs2lQXnHGC",
        "colab": {
          "base_uri": "https://localhost:8080/"
        },
        "outputId": "c8fbcfe9-d729-4b4e-c9c6-0a67446baed8"
      },
      "outputs": [
        {
          "output_type": "execute_result",
          "data": {
            "text/plain": [
              "704"
            ]
          },
          "metadata": {},
          "execution_count": 25
        }
      ],
      "source": [
        "len(data['market'].unique())"
      ]
    },
    {
      "cell_type": "code",
      "execution_count": null,
      "metadata": {
        "scrolled": true,
        "id": "7Yrf83YnnHGC",
        "colab": {
          "base_uri": "https://localhost:8080/"
        },
        "outputId": "66d00845-07c0-479b-ed4a-2aa8a6defdf2"
      },
      "outputs": [
        {
          "output_type": "execute_result",
          "data": {
            "text/plain": [
              " Software                2730\n",
              " Biotechnology           2388\n",
              " Mobile                  1167\n",
              " E-Commerce              1063\n",
              " Curated Web              931\n",
              " Health Care              762\n",
              " Enterprise Software      758\n",
              " Clean Technology         722\n",
              " Games                    687\n",
              " Advertising              671\n",
              " Hardware + Software      627\n",
              " Health and Wellness      568\n",
              " Finance                  536\n",
              " Education                506\n",
              " Social Media             483\n",
              "Name: market, dtype: int64"
            ]
          },
          "metadata": {},
          "execution_count": 26
        }
      ],
      "source": [
        "data['market'].value_counts()[:15]"
      ]
    },
    {
      "cell_type": "markdown",
      "metadata": {
        "id": "I763RQf-nHGC"
      },
      "source": [
        "because we have around 754 categories of start up,\n",
        "Then just plot the top 15   : )"
      ]
    },
    {
      "cell_type": "code",
      "execution_count": null,
      "metadata": {
        "id": "6dio_PmCnHGC",
        "colab": {
          "base_uri": "https://localhost:8080/",
          "height": 767
        },
        "outputId": "a66508cd-02aa-431f-bf59-f27f4deba848"
      },
      "outputs": [
        {
          "output_type": "display_data",
          "data": {
            "text/plain": [
              "<Figure size 1500x800 with 1 Axes>"
            ],
            "image/png": "[encoded data removed]"
          },
          "metadata": {}
        }
      ],
      "source": [
        "plt.rcParams['figure.figsize'] = 15,8\n",
        "\n",
        "height = data['market'].value_counts()[:15].tolist()\n",
        "bars =  data['market'].value_counts()[:15].index.tolist()\n",
        "y_pos = np.arange(len(bars))\n",
        "plt.bar(y_pos, height , width=0.7 ,color= ['c']+['paleturquoise']*14)\n",
        "plt.xticks(y_pos, bars)\n",
        "plt.xticks(rotation=90)\n",
        "plt.title(\"Top 15 Start-Up market category\", fontdict=None, position= [0.48,1.05], size = 'x-large')\n",
        "plt.show()"
      ]
    },
    {
      "cell_type": "markdown",
      "metadata": {
        "id": "HB-8eD2onHGD"
      },
      "source": [
        "# Category"
      ]
    },
    {
      "cell_type": "code",
      "execution_count": null,
      "metadata": {
        "id": "nZBziRuinHGE",
        "colab": {
          "base_uri": "https://localhost:8080/"
        },
        "outputId": "fd6d7745-831a-4eef-a86b-9d973ef7bc19"
      },
      "outputs": [
        {
          "output_type": "execute_result",
          "data": {
            "text/plain": [
              "0               |Entertainment|Politics|Social Media|News|\n",
              "1                                                  |Games|\n",
              "2                                   |Publishing|Education|\n",
              "3        |Electronics|Guides|Coffee|Restaurants|Music|i...\n",
              "4                            |Tourism|Entertainment|Games|\n",
              "                               ...                        \n",
              "29409        |Mobile|Hardware|Fashion|Hardware + Software|\n",
              "29410                                             |Travel|\n",
              "29411    |Enterprise 2.0|Business Services|Enterprise S...\n",
              "29412                      |Web Tools|Incubators|Software|\n",
              "29413                                        |Curated Web|\n",
              "Name: category_list, Length: 29413, dtype: object"
            ]
          },
          "metadata": {},
          "execution_count": 28
        }
      ],
      "source": [
        "data.category_list"
      ]
    },
    {
      "cell_type": "code",
      "execution_count": null,
      "metadata": {
        "id": "6VVllbojnHGE"
      },
      "outputs": [],
      "source": [
        "set_keywords = set()\n",
        "for liste_keywords in data['category_list'].str.split('|').values:\n",
        "    if isinstance(liste_keywords, float): continue  # only happen if liste_keywords = NaN\n",
        "    set_keywords = set_keywords.union(liste_keywords)\n",
        "#_________________________\n",
        "# remove null chain entry\n",
        "set_keywords.remove('')"
      ]
    },
    {
      "cell_type": "markdown",
      "metadata": {
        "id": "VX5P8FXdnHGE"
      },
      "source": [
        "The most popular category is still about Software & Mobile,\n",
        "It maybe because these 2 categories are easily to scalable ?"
      ]
    },
    {
      "cell_type": "markdown",
      "metadata": {
        "id": "0ScsSF3ynHGE"
      },
      "source": [
        "# Total Funding USD"
      ]
    },
    {
      "cell_type": "code",
      "execution_count": null,
      "metadata": {
        "id": "2_FQ4YkZnHGF",
        "colab": {
          "base_uri": "https://localhost:8080/"
        },
        "outputId": "fe1d727c-a5a9-468a-e956-f47a5e8a1241"
      },
      "outputs": [
        {
          "output_type": "execute_result",
          "data": {
            "text/plain": [
              "0     17,50,000 \n",
              "1     40,00,000 \n",
              "2        40,000 \n",
              "3     15,00,000 \n",
              "4        60,000 \n",
              "Name: funding_total_usd, dtype: object"
            ]
          },
          "metadata": {},
          "execution_count": 30
        }
      ],
      "source": [
        "data['funding_total_usd'].head()"
      ]
    },
    {
      "cell_type": "markdown",
      "metadata": {
        "id": "gfiafCFJnHGF"
      },
      "source": [
        "Unlucky..., this column is provided in \"string\" format which contain comma(,) minus(-) and space ( )\n",
        "we need to replace them and convert it to numeric format first"
      ]
    },
    {
      "cell_type": "code",
      "execution_count": null,
      "metadata": {
        "id": "tLBWcVP4nHGF"
      },
      "outputs": [],
      "source": [
        "data['funding_total_usd'] = data['funding_total_usd'].str.replace(',', '')\n",
        "data['funding_total_usd'] = data['funding_total_usd'].str.replace('-', '')\n",
        "data['funding_total_usd'] = data['funding_total_usd'].str.replace(' ', '')\n",
        "\n",
        "data['funding_total_usd'] = pd.to_numeric(data['funding_total_usd'], errors='coerce')"
      ]
    },
    {
      "cell_type": "code",
      "execution_count": null,
      "metadata": {
        "id": "YOt6H8a0nHGF",
        "colab": {
          "base_uri": "https://localhost:8080/"
        },
        "outputId": "5531dbaa-805e-45ce-ce36-1e305e825f0b"
      },
      "outputs": [
        {
          "output_type": "execute_result",
          "data": {
            "text/plain": [
              "0    1750000.0\n",
              "1    4000000.0\n",
              "2      40000.0\n",
              "3    1500000.0\n",
              "4      60000.0\n",
              "Name: funding_total_usd, dtype: float64"
            ]
          },
          "metadata": {},
          "execution_count": 32
        }
      ],
      "source": [
        "data['funding_total_usd'].head()"
      ]
    },
    {
      "cell_type": "markdown",
      "metadata": {
        "id": "Ll5HsBHAnHGG"
      },
      "source": [
        "\n",
        "Okay..., let do some visualize"
      ]
    },
    {
      "cell_type": "markdown",
      "metadata": {
        "id": "bKcoG9pnnHGG"
      },
      "source": [
        "Seem like it has large gap between the highest value and the lowest,\n",
        "let ignore outlier first   : )\n",
        "I will use the simple remove outlier technique such as 1.5IQR"
      ]
    },
    {
      "cell_type": "code",
      "execution_count": null,
      "metadata": {
        "id": "k-xNQd2RnHGG"
      },
      "outputs": [],
      "source": [
        "Q1 = data['funding_total_usd'].quantile(0.25)\n",
        "Q3 = data['funding_total_usd'].quantile(0.75)\n",
        "IQR = Q3 - Q1\n",
        "\n",
        "lower_bound = (Q1 - 1.5 * IQR)\n",
        "upper_bound = (Q3 + 1.5 * IQR)\n",
        "\n"
      ]
    },
    {
      "cell_type": "code",
      "execution_count": null,
      "metadata": {
        "id": "wpjePH0onHGG"
      },
      "outputs": [],
      "source": [
        "without_outlier = data[(data['funding_total_usd'] > lower_bound ) & (data['funding_total_usd'] < upper_bound)]"
      ]
    },
    {
      "cell_type": "code",
      "execution_count": null,
      "metadata": {
        "id": "XTrCLl4WnHGG"
      },
      "outputs": [],
      "source": [
        "Facebook_total_funding = data['funding_total_usd'][data['name']==\"Facebook\"].values[0]\n",
        "\n",
        "Alibaba_total_funding = data['funding_total_usd'][data['name']==\"Alibaba\"].values[0]\n",
        "Cloudera_total_funding = data['funding_total_usd'][data['name']==\"Cloudera\"].values[0]"
      ]
    },
    {
      "cell_type": "code",
      "execution_count": null,
      "metadata": {
        "id": "aU7_BJT-nHGH",
        "colab": {
          "base_uri": "https://localhost:8080/",
          "height": 502
        },
        "outputId": "1553fe87-5bf3-4f58-b884-e5aa527ec205"
      },
      "outputs": [
        {
          "output_type": "display_data",
          "data": {
            "text/plain": [
              "<Figure size 1500x600 with 1 Axes>"
            ],
            "image/png": "[encoded data removed]"
          },
          "metadata": {}
        }
      ],
      "source": [
        "plt.rcParams['figure.figsize'] = 15,6\n",
        "\n",
        "plt.hist(data['funding_total_usd'][(data['funding_total_usd'] >= 1000000000)&(data['funding_total_usd'] <= 3000000000)].dropna(), bins=30,color = 'lightcyan' )\n",
        "plt.ylabel('Count')\n",
        "plt.xlabel('Funding (usd)')\n",
        "plt.title(\"Where are the well-known companies ? \", fontdict=None, position= [0.48,1.05], size = 'x-large')\n",
        "\n",
        "plt.axvline(Facebook_total_funding,color='royalblue',linestyle =\"--\")\n",
        "plt.text(Facebook_total_funding+15000000, 2.6,\"Facebook\")\n",
        "\n",
        "plt.axvline(Cloudera_total_funding,color='dodgerblue',linestyle =\"--\")\n",
        "plt.text(Cloudera_total_funding+10000000, 1.9,\"Cloudera\")\n",
        "\n",
        "plt.axvline(Alibaba_total_funding,color='orange',linestyle =\"--\")\n",
        "plt.text(Alibaba_total_funding+10000000, 1.6,\"Alibaba\")\n",
        "\n",
        "\n",
        "\n",
        "\n",
        "plt.show()"
      ]
    },
    {
      "cell_type": "markdown",
      "metadata": {
        "id": "ytUut6bFnHGH"
      },
      "source": [
        "But..., Are they the highest funding ?\n",
        "the answer is no."
      ]
    },
    {
      "cell_type": "code",
      "execution_count": null,
      "metadata": {
        "id": "rw8DR2Q4nHGH",
        "colab": {
          "base_uri": "https://localhost:8080/",
          "height": 182
        },
        "outputId": "65cb6e61-0c90-4723-f562-35ba0f9b206b"
      },
      "outputs": [
        {
          "output_type": "error",
          "ename": "IndexError",
          "evalue": "ignored",
          "traceback": [
            "\u001b[0;31m---------------------------------------------------------------------------\u001b[0m",
            "\u001b[0;31mIndexError\u001b[0m                                Traceback (most recent call last)",
            "\u001b[0;32m<ipython-input-45-de64873bc63b>\u001b[0m in \u001b[0;36m<cell line: 1>\u001b[0;34m()\u001b[0m\n\u001b[0;32m----> 1\u001b[0;31m \u001b[0mVerizon_total_funding\u001b[0m \u001b[0;34m=\u001b[0m \u001b[0mdata\u001b[0m\u001b[0;34m[\u001b[0m\u001b[0;34m'funding_total_usd'\u001b[0m\u001b[0;34m]\u001b[0m\u001b[0;34m[\u001b[0m\u001b[0mdata\u001b[0m\u001b[0;34m[\u001b[0m\u001b[0;34m'name'\u001b[0m\u001b[0;34m]\u001b[0m\u001b[0;34m==\u001b[0m\u001b[0;34m\"Verizon Communications\"\u001b[0m\u001b[0;34m]\u001b[0m\u001b[0;34m.\u001b[0m\u001b[0mvalues\u001b[0m\u001b[0;34m[\u001b[0m\u001b[0;36m0\u001b[0m\u001b[0;34m]\u001b[0m\u001b[0;34m\u001b[0m\u001b[0;34m\u001b[0m\u001b[0m\n\u001b[0m\u001b[1;32m      2\u001b[0m \u001b[0mSberbank_total_funding\u001b[0m \u001b[0;34m=\u001b[0m \u001b[0mdata\u001b[0m\u001b[0;34m[\u001b[0m\u001b[0;34m'funding_total_usd'\u001b[0m\u001b[0;34m]\u001b[0m\u001b[0;34m[\u001b[0m\u001b[0mdata\u001b[0m\u001b[0;34m[\u001b[0m\u001b[0;34m'name'\u001b[0m\u001b[0;34m]\u001b[0m\u001b[0;34m==\u001b[0m\u001b[0;34m\"Sberbank\"\u001b[0m\u001b[0;34m]\u001b[0m\u001b[0;34m.\u001b[0m\u001b[0mvalues\u001b[0m\u001b[0;34m[\u001b[0m\u001b[0;36m0\u001b[0m\u001b[0;34m]\u001b[0m\u001b[0;34m\u001b[0m\u001b[0;34m\u001b[0m\u001b[0m\n",
            "\u001b[0;31mIndexError\u001b[0m: index 0 is out of bounds for axis 0 with size 0"
          ]
        }
      ],
      "source": [
        "Verizon_total_funding = data['funding_total_usd'][data['name']==\"Ver\n",
        "Sberbank_total_funding = data['funding_total_usd'][data['name']==\"Sberbank\"].values[0]"
      ]
    },
    {
      "cell_type": "code",
      "execution_count": null,
      "metadata": {
        "id": "6rkRf4JznHGH"
      },
      "outputs": [],
      "source": [
        "plt.rcParams['figure.figsize'] = 15,6\n",
        "plt.hist(data['funding_total_usd'][(data['funding_total_usd'] >= 1000000000)].dropna(), bins=30,color = 'lightcyan' )\n",
        "plt.ylabel('Count')\n",
        "plt.xlabel('Funding (usd)')\n",
        "plt.title(\"Who get the highest funding ? \", fontdict=None, position= [0.48,1.05], size = 'x-large')\n",
        "\n",
        "plt.axvline(Facebook_total_funding,color='royalblue',linestyle =\"--\")\n",
        "plt.text(Facebook_total_funding+15000000, 11,\"Facebook\")\n",
        "\n",
        "plt.axvline(Uber_total_funding,color='black',linestyle =\"--\")\n",
        "plt.text(Uber_total_funding+10000000, 9,\"Uber\")\n",
        "\n",
        "plt.axvline(Cloudera_total_funding,color='dodgerblue',linestyle =\"--\")\n",
        "plt.text(Cloudera_total_funding+10000000, 7,\"Cloudera\")\n",
        "\n",
        "plt.axvline(Alibaba_total_funding,color='orange',linestyle =\"--\")\n",
        "plt.text(Alibaba_total_funding+10000000, 4,\"Alibaba\")\n",
        "\n",
        "plt.axvline(Verizon_total_funding,color='red',linestyle =\"--\")\n",
        "plt.text(Verizon_total_funding+100000000, 15,\"Verizon Communications\")\n",
        "\n",
        "plt.axvline(Sberbank_total_funding,color='mediumseagreen',linestyle =\"--\")\n",
        "plt.text(Sberbank_total_funding+100000000, 12,\"Sberbank\")\n",
        "\n",
        "\n",
        "plt.show()"
      ]
    },
    {
      "cell_type": "markdown",
      "metadata": {
        "id": "VNjBrUWBnHGI"
      },
      "source": [
        "The most funding company in this dataset is \"Verizon communication\" which has total fund around 30,000,000,000 usd"
      ]
    },
    {
      "cell_type": "code",
      "execution_count": null,
      "metadata": {
        "id": "JwYBb326nHGI"
      },
      "outputs": [],
      "source": [
        "data['founded_at'].head()"
      ]
    },
    {
      "cell_type": "markdown",
      "metadata": {
        "id": "bXUZM0pbnHGI"
      },
      "source": [
        "This column is provided in term of string format which we need to convert to datetime first"
      ]
    },
    {
      "cell_type": "code",
      "execution_count": null,
      "metadata": {
        "id": "nIR8e5IVnHGJ"
      },
      "outputs": [],
      "source": [
        "data['founded_at'] = pd.to_datetime(data['founded_at'], errors = 'coerce' )"
      ]
    },
    {
      "cell_type": "code",
      "execution_count": null,
      "metadata": {
        "id": "2S95N3KznHGJ"
      },
      "outputs": [],
      "source": [
        "plt.rcParams['figure.figsize'] = 15,6\n",
        "data['name'].groupby(data[\"founded_at\"].dt.year).count().plot(kind=\"line\")\n",
        "\n",
        "plt.ylabel('Count')\n",
        "plt.title(\"Founded distribution \", fontdict=None, position= [0.48,1.05], size = 'x-large')\n",
        "plt.show()"
      ]
    },
    {
      "cell_type": "code",
      "execution_count": null,
      "metadata": {
        "id": "czLISLOInHGK"
      },
      "outputs": [],
      "source": [
        "Facebook_founded_year = data['founded_at'][data['name']==\"Facebook\"].dt.year.values[0]\n",
        "Uber_founded_year  = data['founded_at'][data['name']==\"Uber\"].dt.year.values[0]\n",
        "Alibaba_founded_year  = data['founded_at'][data['name']==\"Alibaba\"].dt.year.values[0]"
      ]
    },
    {
      "cell_type": "code",
      "execution_count": null,
      "metadata": {
        "id": "sWyKATiInHGK"
      },
      "outputs": [],
      "source": [
        "Uber_founded_year"
      ]
    },
    {
      "cell_type": "code",
      "execution_count": null,
      "metadata": {
        "id": "aRDJ-j5qnHGL"
      },
      "outputs": [],
      "source": [
        "plt.rcParams['figure.figsize'] = 15,6\n",
        "data['name'][data[\"founded_at\"].dt.year >= 1990].groupby(data[\"founded_at\"].dt.year).count().plot(kind=\"line\")\n",
        "plt.ylabel('Count')\n",
        "\n",
        "plt.axvline(Facebook_founded_year,color='royalblue',linestyle =\"--\")\n",
        "plt.text(Facebook_founded_year+0.15, 3000,\"Facebook \\n (2004)\")\n",
        "\n",
        "plt.axvline(Uber_founded_year,color='black',linestyle =\"--\")\n",
        "plt.text(Uber_founded_year+0.15, 4000,\"Uber \\n(2009)\")\n",
        "\n",
        "plt.axvline(Alibaba_founded_year,color='orange',linestyle =\"--\")\n",
        "plt.text(Alibaba_founded_year+0.15, 2000,\"Alibaba \\n(1999)\")\n",
        "\n",
        "\n",
        "plt.title(\"When the well-known company found ?\", fontdict=None, position= [0.48,1.05], size = 'x-large')\n",
        "plt.show()"
      ]
    },
    {
      "cell_type": "markdown",
      "metadata": {
        "id": "CAbsjuyJnHGL"
      },
      "source": [
        "# Country Code"
      ]
    },
    {
      "cell_type": "code",
      "execution_count": null,
      "metadata": {
        "id": "3QsjeHttnHGM"
      },
      "outputs": [],
      "source": [
        "len(data['country_code'].unique())"
      ]
    },
    {
      "cell_type": "code",
      "execution_count": null,
      "metadata": {
        "id": "QqTlJTfwnHGM",
        "colab": {
          "base_uri": "https://localhost:8080/"
        },
        "outputId": "726bb0c4-01a5-4e36-b681-27dfc6d69c5e"
      },
      "outputs": [
        {
          "output_type": "execute_result",
          "data": {
            "text/plain": [
              "USA    17195\n",
              "GBR     1526\n",
              "CAN      831\n",
              "CHN      774\n",
              "DEU      590\n",
              "IND      532\n",
              "FRA      525\n",
              "ISR      408\n",
              "ESP      328\n",
              "RUS      219\n",
              "SGP      198\n",
              "BRA      187\n",
              "ITA      182\n",
              "CHL      181\n",
              "IRL      179\n",
              "SWE      175\n",
              "JPN      175\n",
              "AUS      171\n",
              "NLD      171\n",
              "KOR      148\n",
              "Name: country_code, dtype: int64"
            ]
          },
          "metadata": {},
          "execution_count": 48
        }
      ],
      "source": [
        "data['country_code'].value_counts()[:20]"
      ]
    },
    {
      "cell_type": "code",
      "execution_count": null,
      "metadata": {
        "id": "C3yBf9VHnHGM"
      },
      "outputs": [],
      "source": [
        "data['count'] = 1\n",
        "country_market = data[['count','country_code','market']].groupby(['country_code','market']).agg({'count': 'sum'})\n",
        "# Change: groupby state_office and divide by sum\n",
        "country_market_pct = country_market.groupby(level=0).apply(lambda x:\n",
        "                                                 100 * x / float(x.sum()))\n",
        "country_market_pct.reset_index(inplace = True)"
      ]
    },
    {
      "cell_type": "code",
      "execution_count": null,
      "metadata": {
        "id": "Rizv4imOnHGM"
      },
      "outputs": [],
      "source": [
        "USA_market_pct = country_market_pct[country_market_pct['country_code'] == \"USA\"]\n",
        "USA_market_pct = USA_market_pct.sort_values('count',ascending = False)[0:10]"
      ]
    },
    {
      "cell_type": "code",
      "execution_count": null,
      "metadata": {
        "id": "9f5haE3qnHGM",
        "colab": {
          "base_uri": "https://localhost:8080/"
        },
        "outputId": "f8316414-56f8-424f-9b88-4b8e6d2f9d86"
      },
      "outputs": [
        {
          "output_type": "execute_result",
          "data": {
            "text/plain": [
              "100.0"
            ]
          },
          "metadata": {},
          "execution_count": 52
        }
      ],
      "source": [
        "IND_market_pct = country_market_pct[country_market_pct['country_code'] == \"IND\"]\n",
        "IND_market_pct['count'].sum()"
      ]
    },
    {
      "cell_type": "code",
      "execution_count": null,
      "metadata": {
        "id": "zgc490eZnHGN",
        "colab": {
          "base_uri": "https://localhost:8080/"
        },
        "outputId": "bfde6d88-bc78-4243-8924-f6410499c8c0"
      },
      "outputs": [
        {
          "output_type": "execute_result",
          "data": {
            "text/plain": [
              "45.96694009445687"
            ]
          },
          "metadata": {},
          "execution_count": 53
        }
      ],
      "source": [
        "USA_market_pct['count'].sum()"
      ]
    },
    {
      "cell_type": "code",
      "execution_count": null,
      "metadata": {
        "id": "fp1Rnu0ZnHGN",
        "colab": {
          "base_uri": "https://localhost:8080/",
          "height": 1000
        },
        "outputId": "b0f86b20-5c87-4f7d-f7ca-44e779774474"
      },
      "outputs": [
        {
          "output_type": "display_data",
          "data": {
            "text/plain": [
              "<Figure size 1000x1000 with 1 Axes>"
            ],
            "image/png": "[encoded data removed]"
          },
          "metadata": {}
        }
      ],
      "source": [
        "## USA\n",
        "plt.rcParams['figure.figsize'] =10,10\n",
        "labels = list(USA_market_pct['market'])+['Other...']\n",
        "sizes = list(USA_market_pct['count'])+[100-USA_market_pct['count'].sum()]\n",
        "explode = (0.18, 0.12, 0.09,0,0,0,0,0,0,0,0.01)\n",
        "colors =  ['royalblue','mediumaquamarine','moccasin'] +['oldlace']*8\n",
        "\n",
        "plt.pie(sizes, explode = explode, colors = colors ,labels=labels, autopct='%1.1f%%',\n",
        "        shadow=False, startangle=30)\n",
        "plt.axis('equal')\n",
        "plt.tight_layout()\n",
        "plt.title(\"USA start up market\", fontdict=None, position= [0.48,1.1], size = 'x-large')\n",
        "\n",
        "plt.show()"
      ]
    },
    {
      "cell_type": "markdown",
      "metadata": {
        "id": "xNGzxCTunHGN"
      },
      "source": [
        "For USA, Most of start up market is about Software & Technology"
      ]
    },
    {
      "cell_type": "code",
      "execution_count": null,
      "metadata": {
        "id": "c-X2gOSOnHGO"
      },
      "outputs": [],
      "source": [
        "IND_market_pct = country_market_pct[country_market_pct['country_code'] == \"IND\"]\n",
        "IND_market_pct = IND_market_pct.sort_values('count',ascending = False)[0:10]"
      ]
    },
    {
      "cell_type": "code",
      "execution_count": null,
      "metadata": {
        "id": "5-qMOhA6nHGO",
        "colab": {
          "base_uri": "https://localhost:8080/",
          "height": 1000
        },
        "outputId": "1e11e572-40db-405c-e5d9-b6c49a8a26c2"
      },
      "outputs": [
        {
          "output_type": "display_data",
          "data": {
            "text/plain": [
              "<Figure size 1000x1000 with 1 Axes>"
            ],
            "image/png": "[encoded data removed]"
          },
          "metadata": {}
        }
      ],
      "source": [
        "plt.rcParams['figure.figsize'] = 10,10\n",
        "labels = list(IND_market_pct['market'])+['Other...']\n",
        "sizes = list(IND_market_pct['count'])+[100-USA_market_pct['count'].sum()]\n",
        "explode = (0.18, 0.12, 0.09,0,0,0,0,0,0,0,0.01)\n",
        "colors =  ['royalblue','violet','gold'] +['oldlace']*8\n",
        "\n",
        "plt.pie(sizes, explode = explode, colors = colors ,labels=labels, autopct='%1.1f%%',shadow=False, startangle=30)\n",
        "plt.axis('equal')\n",
        "plt.tight_layout()\n",
        "plt.title(\"IND start up market\", fontdict=None, position= [0.48,1.1], size = 'x-large')\n",
        "plt.show()"
      ]
    },
    {
      "cell_type": "markdown",
      "metadata": {
        "id": "TOp5F78DnHGO"
      },
      "source": [
        "# Funding Analysis"
      ]
    },
    {
      "cell_type": "code",
      "execution_count": null,
      "metadata": {
        "id": "jZdeoNJjnHGO"
      },
      "outputs": [],
      "source": [
        "warnings.filterwarnings(\"ignore\")\n",
        "pd.options.display.float_format = '{:.2f}'.format\n",
        "## Function for providing summary in dataframe\n",
        "%matplotlib inline\n",
        "\n",
        "def funding_information(data,name):\n",
        "    company = data[data['name'] == name]\n",
        "    print (\"Company : \", name)\n",
        "    print (\"Total Funding : \", company.funding_total_usd.values[0] , \" $\")\n",
        "    print (\"Seed Funding : \", company.seed.values[0] , \" $\")\n",
        "    print (\"Angle Funding :\", company.angel.values[0] , \" $\")\n",
        "    print (\"Grant Funding : \",company.grant.values[0] , \" $\")\n",
        "    print (\"Product Crowd Funding : \",company.product_crowdfunding.values[0] , \" $\")\n",
        "    print (\"Equity Crowd Funding : \",company.equity_crowdfunding.values[0] , \" $\")\n",
        "    print (\"Undisclode Funding : \", company.undisclosed.values[0] , \" $\")\n",
        "    print (\"Convertible Note : \", company.convertible_note.values[0] , \" $\")\n",
        "    print (\"Debt Financing : \", company.debt_financing.values[0] , \" $\")\n",
        "    print (\"Private Equity : \",company.private_equity.values[0] , \" $\")\n",
        "    print (\"PostIPO Equity : \",company.post_ipo_equity.values[0] , \" $\")\n",
        "    print (\"PostIPO Debt : \",company.post_ipo_debt.values[0] , \" $\")\n",
        "    print (\"Secondary Market : \",company.secondary_market.values[0] , \" $\")\n",
        "    print (\"Venture Funding : \",company.venture.values[0] , \" $\")\n",
        "    print (\"Round A funding : \",company.round_A.values[0] , \" $\")\n",
        "    print (\"Round B funding : \",company.round_B.values[0] , \" $\")\n",
        "    print (\"Round C funding : \",company.round_C.values[0] , \" $\")\n",
        "    print (\"Round D funding : \",company.round_D.values[0] , \" $\")\n",
        "    print (\"Round E funding : \",company.round_E.values[0] , \" $\")\n",
        "    print (\"Round F funding : \",company.round_F.values[0] , \" $\")\n",
        "    print (\"Round G funding : \",company.round_G.values[0] , \" $\")\n",
        "    print (\"Round H funding : \",company.round_H.values[0] , \" $\")\n",
        "\n",
        "def count_word(df, ref_col, liste):\n",
        "    keyword_count = dict()\n",
        "    for s in liste: keyword_count[s] = 0\n",
        "    for liste_keywords in df[ref_col].str.split('|'):\n",
        "        if type(liste_keywords) == float and pd.isnull(liste_keywords): continue\n",
        "        for s in [s for s in liste_keywords if s in liste]:\n",
        "            if pd.notnull(s): keyword_count[s] += 1\n",
        "    #______________________________________________________________________\n",
        "    # convert the dictionary in a list to sort the keywords by frequency\n",
        "    keyword_occurences = []\n",
        "    for k,v in keyword_count.items():\n",
        "        keyword_occurences.append([k,v])\n",
        "    keyword_occurences.sort(key = lambda x:x[1], reverse = True)\n",
        "    return keyword_occurences, keyword_count\n",
        "\n",
        "\n",
        "def makeCloud(Dict,name,color):\n",
        "    words = dict()\n",
        "\n",
        "    for s in Dict:\n",
        "        words[s[0]] = s[1]\n",
        "\n",
        "        wordcloud = WordCloud(\n",
        "                      width=1500,\n",
        "                      height=750,\n",
        "                      background_color=color,\n",
        "                      max_words=50,\n",
        "                      max_font_size=500,\n",
        "                      normalize_plurals=False)\n",
        "        wordcloud.generate_from_frequencies(words)\n",
        "\n",
        "\n",
        "    fig = plt.figure(figsize=(12, 8))\n",
        "    plt.title(name)\n",
        "    plt.imshow(wordcloud)\n",
        "    plt.axis('off')\n",
        "\n",
        "    plt.show()"
      ]
    },
    {
      "cell_type": "code",
      "execution_count": null,
      "metadata": {
        "id": "TbYj9bBKnHGP"
      },
      "outputs": [],
      "source": [
        "funding_information(data,\"Dropbox\")"
      ]
    },
    {
      "cell_type": "markdown",
      "metadata": {
        "id": "3munYdpPnHGY"
      },
      "source": [
        "Here I have the print function to make data easier to consume,\n",
        "As you can see in \"Dropbox\" case,\n",
        "The total funding is 1,107,215,000 usd\n",
        "\n",
        "which came from Seed Funding 15,000 usd\n",
        "            and Debt Financing 5,000,000 usd\n",
        "            and Venture Funding 6,0720,000 usd\n",
        "\n",
        "For Venture Funding, this dataset also shows How much company get fund in each round."
      ]
    },
    {
      "cell_type": "code",
      "execution_count": null,
      "metadata": {
        "id": "dtr79h08nHGZ"
      },
      "outputs": [],
      "source": [
        "funding_information(data,\"Uber\")"
      ]
    },
    {
      "cell_type": "markdown",
      "metadata": {
        "id": "2erMABB6nHGZ"
      },
      "source": [
        "For the \"Uber\" case,\n",
        "The total funding is 1,507,450,000 usd\n",
        "\n",
        "which came from Seed Funding 200,000 usd\n",
        "            and Angle Funding 1,250,000 usd\n",
        "            and Venture Funding 1,506,000,000 usd"
      ]
    },
    {
      "cell_type": "markdown",
      "metadata": {
        "id": "BOKYrboPnHGZ"
      },
      "source": [
        "Seed funding is the first official equity funding stage.\n",
        "It typically represents the first official money that a business venture or enterprise raises;\n",
        "some companies never extend beyond seed funding into Series A rounds or beyond."
      ]
    },
    {
      "cell_type": "code",
      "execution_count": null,
      "metadata": {
        "id": "YZTqNkD5nHGZ"
      },
      "outputs": [],
      "source": [
        "data[['name','seed']].head(5)"
      ]
    },
    {
      "cell_type": "markdown",
      "metadata": {
        "id": "99Yn3vUSnHGa"
      },
      "source": [
        "Average funding in this stage ?\n",
        "\n",
        " Note you need to beware when use the mean value\n",
        " Most of value in this column is 0, they will drag your average value down\n",
        " The solution is using data which is not 0 to find average\n"
      ]
    },
    {
      "cell_type": "code",
      "execution_count": null,
      "metadata": {
        "id": "miwHihtFnHGa"
      },
      "outputs": [],
      "source": [
        "print(\"The average of seed funding stage is around \",data['seed'][data['seed'] != 0].mean(), \"$\")"
      ]
    },
    {
      "cell_type": "markdown",
      "metadata": {
        "id": "E6IW6SswnHGa"
      },
      "source": [
        "But... How many company get funding in seed stage ?"
      ]
    },
    {
      "cell_type": "code",
      "execution_count": null,
      "metadata": {
        "id": "Nww7Q_kynHGa"
      },
      "outputs": [],
      "source": [
        "data['get_funding_in_seed'] = data['seed'].map(lambda s :1  if s > 0 else 0)"
      ]
    },
    {
      "cell_type": "code",
      "execution_count": null,
      "metadata": {
        "id": "CyXe1x8fnHGa"
      },
      "outputs": [],
      "source": [
        "## USA\n",
        "plt.rcParams['figure.figsize'] =10,10\n",
        "labels = ['No','Get funding']\n",
        "sizes = data['get_funding_in_seed'].value_counts().tolist()\n",
        "explode = (0, 0.1)\n",
        "colors =  ['lightcoral','palegreen']\n",
        "\n",
        "plt.pie(sizes, explode = explode, colors = colors ,labels=labels, autopct='%1.1f%%',\n",
        "        shadow=False, startangle=190)\n",
        "plt.axis('equal')\n",
        "plt.tight_layout()\n",
        "plt.title(\"How may company get funding in seed stage\", fontdict=None, position= [0.48,1.1], size = 'x-large')\n",
        "\n",
        "plt.show()\n"
      ]
    },
    {
      "cell_type": "code",
      "execution_count": null,
      "metadata": {
        "id": "Wj_rwW6XnHGb"
      },
      "outputs": [],
      "source": [
        "## Remove Outlier first\n",
        "Q1 = data['seed'][data['seed'] != 0].quantile(0.25)\n",
        "Q3 = data['seed'][data['seed'] != 0].quantile(0.75)\n",
        "IQR = Q3 - Q1\n",
        "\n",
        "lower_bound = (Q1 - 1.5 * IQR)\n",
        "upper_bound = (Q3 + 1.5 * IQR)\n",
        "without_outlier = data[(data['seed'] > lower_bound ) & (data['seed'] < upper_bound)]"
      ]
    },
    {
      "cell_type": "code",
      "execution_count": null,
      "metadata": {
        "id": "N8-Jtsm8nHGb"
      },
      "outputs": [],
      "source": [
        "Facebook_seed_funding = data['seed'][data['name']==\"Facebook\"].values[0]\n",
        "Uber_seed_funding   = data['seed'][data['name']==\"Uber\"].values[0]\n",
        "Dropbox_seed_funding   = data['seed'][data['name']==\"Dropbox\"].values[0]"
      ]
    },
    {
      "cell_type": "code",
      "execution_count": null,
      "metadata": {
        "id": "FZhmgWofnHGb"
      },
      "outputs": [],
      "source": [
        "plt.rcParams['figure.figsize'] = 15,6\n",
        "plt.hist(without_outlier['seed'][without_outlier['seed']!=0].dropna(), bins=50,color = 'cornsilk' )\n",
        "\n",
        "plt.axvline(Facebook_seed_funding,color='royalblue',linestyle =\"--\")\n",
        "plt.text(Facebook_seed_funding+0.15, 200,\"Facebook \\n ( 0$ )\")\n",
        "\n",
        "plt.axvline(Uber_seed_funding,color='black',linestyle =\"--\")\n",
        "plt.text(Uber_seed_funding+0.15, 2000,\"      Uber \\n ( 200000$ )\")\n",
        "\n",
        "plt.axvline(Dropbox_seed_funding,color='violet',linestyle =\"--\")\n",
        "plt.text(Dropbox_seed_funding+0.15, 1000,\"  Dropbox \\n( 15000$ )\")\n",
        "\n",
        "plt.ylabel('Count')\n",
        "plt.xlabel('Funding (usd)')\n",
        "plt.title(\"Distribution of Seed funding \", fontdict=None, position= [0.48,1.05], size = 'x-large')\n",
        "plt.show()"
      ]
    },
    {
      "cell_type": "markdown",
      "metadata": {
        "id": "B54r0EvdnHGb"
      },
      "source": [
        "# Angel funding"
      ]
    },
    {
      "cell_type": "markdown",
      "metadata": {
        "id": "J3sKWvVGnHGc"
      },
      "source": [
        "Who is angel?\n",
        "\n",
        "An angel investor (also known as a private investor, seed investor or angel funder)\n",
        "is a high net worth individual who provides financial backing for small startups or entrepreneurs,\n",
        "typically in exchange for ownership equity in the company. Often, angel investors are found among\n",
        "an entrepreneur's family and friends.\n",
        "The funds that angel investors provide may be a one-time investment to help the business get off the ground\n",
        "or an ongoing injection to support and carry the company through its difficult early stages.\n"
      ]
    },
    {
      "cell_type": "code",
      "execution_count": null,
      "metadata": {
        "id": "qAXj_8FvnHGc"
      },
      "outputs": [],
      "source": [
        "print(\"The average of Angel funding is around \",data['angel'][data['angel'] != 0].mean(), \"$\")"
      ]
    },
    {
      "cell_type": "code",
      "execution_count": null,
      "metadata": {
        "id": "giK3zKX2nHGc"
      },
      "outputs": [],
      "source": [
        "data['get_funding_in_angel'] = data['angel'].map(lambda s :\"Get funding\"  if s > 0 else \"Not get funding\")"
      ]
    },
    {
      "cell_type": "code",
      "execution_count": null,
      "metadata": {
        "id": "7GBkU8x-nHGc"
      },
      "outputs": [],
      "source": [
        "print(\"Only \" , data['get_funding_in_angel'].value_counts().values[1], \" companies has angel investor\")\n",
        "print(\"while \" , data['get_funding_in_angel'].value_counts().values[0], \" are not\")\n",
        "print(\"~\",data['get_funding_in_angel'].value_counts().values[1]/(data['get_funding_in_angel'].value_counts().values[1]+data['get_funding_in_angel'].value_counts().values[0]) *100, \"percent\")"
      ]
    },
    {
      "cell_type": "markdown",
      "metadata": {
        "id": "UUiE3_N4nHGd"
      },
      "source": [
        "Only  3129  companies has angel investor\n",
        "while  46308  are not\n",
        "~ 6.329267552642757 percent"
      ]
    },
    {
      "cell_type": "markdown",
      "metadata": {
        "id": "lz9rIRfmnHGd"
      },
      "source": [
        "Investment in each round"
      ]
    },
    {
      "cell_type": "code",
      "execution_count": null,
      "metadata": {
        "id": "ccW2Q8Z3nHGd"
      },
      "outputs": [],
      "source": [
        "data['round_A'][data['round_A'] != 0].mean()"
      ]
    },
    {
      "cell_type": "code",
      "execution_count": null,
      "metadata": {
        "id": "R4LIWJfWnHGd"
      },
      "outputs": [],
      "source": [
        "data['round_B'][data['round_B'] != 0].mean()"
      ]
    },
    {
      "cell_type": "code",
      "execution_count": null,
      "metadata": {
        "id": "9uJVmw33nHGd"
      },
      "outputs": [],
      "source": [
        "data['round_C'][data['round_C'] != 0].mean()"
      ]
    },
    {
      "cell_type": "markdown",
      "metadata": {
        "id": "H8CBG9q5nHGe"
      },
      "source": [
        "Those number above is average funding of each round of investment,\n",
        "you can see that the farther round the investment is higher too."
      ]
    },
    {
      "cell_type": "code",
      "execution_count": null,
      "metadata": {
        "id": "ave0Q-4CnHGe"
      },
      "outputs": [],
      "source": [
        "round_ = ['round_A','round_B','round_C','round_D','round_E','round_F','round_G','round_H']\n",
        "amount = [data['round_A'][data['round_A'] != 0].mean(),\n",
        "          data['round_B'][data['round_B'] != 0].mean(),\n",
        "          data['round_C'][data['round_C'] != 0].mean(),\n",
        "          data['round_D'][data['round_D'] != 0].mean(),\n",
        "          data['round_E'][data['round_E'] != 0].mean(),\n",
        "          data['round_F'][data['round_F'] != 0].mean(),\n",
        "          data['round_G'][data['round_G'] != 0].mean(),\n",
        "         data['round_H'][data['round_H'] != 0].mean()]\n"
      ]
    },
    {
      "cell_type": "code",
      "execution_count": null,
      "metadata": {
        "id": "R_HAuiWwnHGe"
      },
      "outputs": [],
      "source": [
        "plt.rcParams['figure.figsize'] = 15,8\n",
        "\n",
        "height = amount\n",
        "bars =  round_\n",
        "y_pos = np.arange(len(bars))\n",
        "plt.bar(y_pos, height , width=0.7, color= ['cornsilk','oldlace','papayawhip','wheat','moccasin','navajowhite','burlywood','goldenrod'] )\n",
        "plt.xticks(y_pos, bars)\n",
        "plt.title(\"Average investment in each round\", fontdict=None, position= [0.48,1.05], size = 'x-large')\n",
        "plt.show()"
      ]
    },
    {
      "cell_type": "code",
      "execution_count": null,
      "metadata": {
        "id": "rCVD0mWXnHGe"
      },
      "outputs": [],
      "source": [
        "# unique value in City\n",
        "print(\"Number of Unique Values: \", (data['market'].nunique()))\n",
        "print(\"Number of Missing Values: \", data['market'].isna().sum())\n",
        "# Value Counts of top 10 cities\n",
        "print((data['market'].value_counts()[0:10]))"
      ]
    },
    {
      "cell_type": "code",
      "execution_count": null,
      "metadata": {
        "scrolled": false,
        "id": "MtLXNeV_nHGe"
      },
      "outputs": [],
      "source": [
        "data"
      ]
    },
    {
      "cell_type": "code",
      "execution_count": null,
      "metadata": {
        "id": "ZSPP4aubnHGf"
      },
      "outputs": [],
      "source": [
        "#Plot of training_hours\n",
        "print(\"Number of Missing Values: \", data['funding_total_usd'].isna().sum())\n",
        "plt.figure(figsize=(14,6))\n",
        "sns.distplot(data.funding_total_usd).set_title(\"Distributional of market\");"
      ]
    },
    {
      "cell_type": "markdown",
      "metadata": {
        "id": "USLsKfjnnHGf"
      },
      "source": [
        "# Feature Selection"
      ]
    },
    {
      "cell_type": "markdown",
      "metadata": {
        "id": "IxU2dwz2nHGf"
      },
      "source": [
        "**Correlation in Data**"
      ]
    },
    {
      "cell_type": "code",
      "execution_count": null,
      "metadata": {
        "scrolled": true,
        "id": "zObUq6l_nHGf"
      },
      "outputs": [],
      "source": [
        "data.corr()"
      ]
    },
    {
      "cell_type": "code",
      "execution_count": null,
      "metadata": {
        "id": "SguvBGbJnHGg"
      },
      "outputs": [],
      "source": [
        "data.head()"
      ]
    },
    {
      "cell_type": "markdown",
      "metadata": {
        "id": "csY2mpz1nHGg"
      },
      "source": [
        "**Splitting the data**"
      ]
    },
    {
      "cell_type": "code",
      "execution_count": null,
      "metadata": {
        "scrolled": true,
        "id": "GiSXuBg8nHGg"
      },
      "outputs": [],
      "source": [
        "# Non_numerical_data\n",
        "data.homepage_url\n",
        "data.category_list\n",
        "data.market\n",
        "data.status\n",
        "data.name\n",
        "data.country_code\n",
        "data.state_code\n",
        "data.region\n",
        "data.city\n",
        "data.founded_at"
      ]
    },
    {
      "cell_type": "code",
      "execution_count": null,
      "metadata": {
        "id": "c4aKKKGXnHGg"
      },
      "outputs": [],
      "source": [
        "# Numerical Data\n",
        "data.funding_total_usd\n",
        "data.funding_rounds\n",
        "data.first_funding_at\n",
        "data.last_funding_at\n",
        "data.seed\n",
        "data.venture\n",
        "data.equity_crowdfunding\n",
        "data.undisclosed\n",
        "data.convertible_note\n",
        "data.debt_financing\n",
        "data.angel\n",
        "data.grant\n",
        "data.private_equity\n",
        "data.post_ipo_debt\n",
        "data.secondary_market\n",
        "data.product_crowdfunding\n",
        "data.round_A\n",
        "data.round_B\n",
        "data.round_C\n",
        "data.round_D\n",
        "data.round_E\n",
        "data.round_F\n",
        "data.round_G\n",
        "data.round_H\n",
        "data.grant"
      ]
    },
    {
      "cell_type": "code",
      "execution_count": null,
      "metadata": {
        "id": "bhcqJSSsnHGh"
      },
      "outputs": [],
      "source": [
        "# 'funding_total_usd',\n",
        "# 'name','homepage_url','category_list','market','status', 'country_code', 'state_code' ,'region','city''founded_at' ,'founded_month' ,'founded_quarter','founded_year' , ,'first_funding_at' ,'last_funding_at'\n",
        "\n",
        "data.grant"
      ]
    },
    {
      "cell_type": "code",
      "execution_count": null,
      "metadata": {
        "id": "mGxsLX04nHGh"
      },
      "outputs": [],
      "source": [
        "X=data[['funding_rounds', 'seed' ,'venture','equity_crowdfunding','undisclosed' ,'convertible_note' ,'debt_financing','angel', 'private_equity' ,'post_ipo_equity', 'post_ipo_debt','secondary_market', 'product_crowdfunding', 'round_A' ,'round_B', 'round_C','round_D', 'round_E' ,'round_F' ,'round_G', 'round_H']]\n",
        "y=data['grant']"
      ]
    },
    {
      "cell_type": "code",
      "execution_count": null,
      "metadata": {
        "id": "uGg3sic6nHGh"
      },
      "outputs": [],
      "source": [
        "X_train, X_test, y_train, y_test = train_test_split(X, y, test_size=0.2, random_state=42)"
      ]
    },
    {
      "cell_type": "code",
      "execution_count": null,
      "metadata": {
        "id": "7-GWC8wJnHGh"
      },
      "outputs": [],
      "source": [
        "X_train.fillna(0)\n",
        "X.fillna(0)\n",
        "X_train.isnull().sum()"
      ]
    },
    {
      "cell_type": "markdown",
      "metadata": {
        "id": "P325om2-nHGh"
      },
      "source": [
        "# Applying Models"
      ]
    },
    {
      "cell_type": "markdown",
      "metadata": {
        "id": "G0u-WXhunHGi"
      },
      "source": [
        "#### Determine the baseline model accuracy"
      ]
    },
    {
      "cell_type": "code",
      "execution_count": null,
      "metadata": {
        "id": "LGrG0hGOnHGi"
      },
      "outputs": [],
      "source": [
        "# create baseline model\n",
        "def baseline_model(n_predictions, value_to_predict):\n",
        "    \"\"\"\n",
        "    just predict a single value (e.g. mean) for everything\n",
        "    \"\"\"\n",
        "    baseline_preds = []\n",
        "    for i in range(n_predictions):\n",
        "        baseline_preds.append(value_to_predict)\n",
        "    return pd.Series(baseline_preds)"
      ]
    },
    {
      "cell_type": "code",
      "execution_count": null,
      "metadata": {
        "id": "Cy-J78S0nHGi"
      },
      "outputs": [],
      "source": [
        "n_predictions = len(y_test)  # how many predictions to make? '3832'\n",
        "baseline_value =pd.Series(y_train).value_counts().index[0]  # what value to predict? (classification = most common class '0.0')\n",
        "baseline_preds = baseline_model(n_predictions, baseline_value)\n",
        "baseline_preds = baseline_model(n_predictions, baseline_value)\n",
        "baseline_preds"
      ]
    },
    {
      "cell_type": "code",
      "execution_count": null,
      "metadata": {
        "id": "SFDz22CbnHGi"
      },
      "outputs": [],
      "source": [
        "baseline_acc=accuracy_score(y_test, baseline_preds) #Accuracy score of baseline model\n",
        "print('The baseline model accuracy score is :',baseline_acc)"
      ]
    },
    {
      "cell_type": "markdown",
      "metadata": {
        "id": "7J0aUEnynHGj"
      },
      "source": [
        "#### RandomForestClassifier Model"
      ]
    },
    {
      "cell_type": "code",
      "execution_count": null,
      "metadata": {
        "id": "Kk8F0CxxnHGj"
      },
      "outputs": [],
      "source": [
        "# create and fit RandomForestClassifier model\n",
        "rfc=RandomForestClassifier()\n",
        "rfc.fit(X_train, y_train)\n",
        "# predict\n",
        "pred = rfc.predict(X_test)\n",
        "# pred\n",
        "rfc_acc= accuracy_score(y_test, pred)\n",
        "print('The accuracy score using the RandomForestClassifier (befor resample) is :',rfc_acc)\n",
        "print(classification_report(y_test, pred))"
      ]
    },
    {
      "cell_type": "markdown",
      "metadata": {
        "id": "JhJprdbEnHGj"
      },
      "source": [
        "#### DecisionTreeClassifier Model"
      ]
    },
    {
      "cell_type": "code",
      "execution_count": null,
      "metadata": {
        "id": "BK56XQwZnHGj"
      },
      "outputs": [],
      "source": [
        "# create and fit DecisionTreeClassifier model\n",
        "dtc=DecisionTreeClassifier()\n",
        "dtc.fit(X_train,y_train)\n",
        "#predict\n",
        "pred = dtc.predict(X_test)\n",
        "# pred\n",
        "\n",
        "dtc_acc= accuracy_score(y_test, pred)\n",
        "print('The accuracy score with using the decision tree classifier is :',dtc_acc)\n",
        "\n",
        "print(classification_report(y_test, pred))"
      ]
    },
    {
      "cell_type": "markdown",
      "metadata": {
        "id": "RQOx_uPFnHGj"
      },
      "source": [
        "#### KNeighborsClassifier Model"
      ]
    },
    {
      "cell_type": "code",
      "execution_count": null,
      "metadata": {
        "id": "L8czcWyenHGk"
      },
      "outputs": [],
      "source": [
        "# create and fit KNeighborsClassifier model\n",
        "knn = KNeighborsClassifier(n_neighbors=3)\n",
        "knn.fit(X_train,y_train)\n",
        "\n",
        "#predict\n",
        "pred = knn.predict(X_test)\n",
        "\n",
        "# #KNN accuracy score\n",
        "Knn_acc= accuracy_score(y_test, knn.predict(X_test))\n",
        "print('The accuracy socre using the KNeighborsClassifier is :',Knn_acc)\n",
        "\n",
        "print(classification_report(y_test, pred))"
      ]
    },
    {
      "cell_type": "markdown",
      "metadata": {
        "id": "Ms9fSuIanHGk"
      },
      "source": [
        "## Evaluation"
      ]
    },
    {
      "cell_type": "markdown",
      "metadata": {
        "id": "c4hFSffNnHGk"
      },
      "source": [
        "**Comparing Model Accuracy**"
      ]
    },
    {
      "cell_type": "code",
      "execution_count": null,
      "metadata": {
        "id": "sdCy8HMinHGl"
      },
      "outputs": [],
      "source": [
        "pd.DataFrame([baseline_acc, rfc_acc, dtc_acc, Knn_acc]).plot.bar();\n",
        "plt.xticks(np.arange(4),('Baseline','RFC','DTC','KNN'))\n",
        "plt.legend().remove()\n",
        "plt.ylim(0,1)\n",
        "plt.ylabel('Accuracy')\n",
        "plt.xlabel('Models')\n",
        "plt.xticks(rotation = 0)\n",
        "plt.title('Comparing Model Accuracy');"
      ]
    },
    {
      "cell_type": "markdown",
      "metadata": {
        "id": "06BHpfKDnHGm"
      },
      "source": [
        "# Conclusion / Final Thoughts"
      ]
    },
    {
      "cell_type": "markdown",
      "metadata": {
        "id": "acc2Q1D8nHGn"
      },
      "source": [
        "We have applied three distinctive machine learning techniques to the data. Decision tree seem to be the most successful out of them. Decision tree accomplished 0.984 accuracy score.which it is perfect and we think we can consider it a successful classification. while baseline accuracy score is 0.976, KNN accuracy score is 0.984, Random Forest accuracy score is 0.985.\n"
      ]
    },
    {
      "cell_type": "code",
      "execution_count": null,
      "metadata": {
        "id": "aSwU7sHWnHGn"
      },
      "outputs": [],
      "source": []
    }
  ],
  "metadata": {
    "kernelspec": {
      "display_name": "Python 3 (ipykernel)",
      "language": "python",
      "name": "python3"
    },
    "language_info": {
      "codemirror_mode": {
        "name": "ipython",
        "version": 3
      },
      "file_extension": ".py",
      "mimetype": "text/x-python",
      "name": "python",
      "nbconvert_exporter": "python",
      "pygments_lexer": "ipython3",
      "version": "3.9.7"
    },
    "colab": {
      "provenance": [],
      "include_colab_link": true
    }
  },
  "nbformat": 4,
  "nbformat_minor": 0
}